{
 "cells": [
  {
   "cell_type": "code",
   "execution_count": 1,
   "metadata": {},
   "outputs": [],
   "source": [
    "import numpy as np\n",
    "import torch\n",
    "import torch.nn as nn\n",
    "import pandas as pd\n",
    "import time\n",
    "import pydde as d"
   ]
  },
  {
   "cell_type": "code",
   "execution_count": 2,
   "metadata": {},
   "outputs": [],
   "source": [
    "#Parameters\n",
    "samplenum = 1\n",
    "input_size = 3\n",
    "output_size = 1\n",
    "time_length = 30; #seconds"
   ]
  },
  {
   "cell_type": "code",
   "execution_count": 3,
   "metadata": {},
   "outputs": [
    {
     "output_type": "stream",
     "name": "stdout",
     "text": "[2.15365312e-05 1.99969848e+00 0.00000000e+00 2.15757288e-05\n 1.99969848e+00 0.00000000e+00 2.15562034e-05 1.99969848e+00\n 0.00000000e+00 2.14781676e-05 1.99969848e+00 0.00000000e+00\n 2.13419924e-05 1.99969848e+00 0.00000000e+00 2.11482057e-05\n 1.99969848e+00 0.00000000e+00 2.08974905e-05 1.99969848e+00\n 0.00000000e+00 2.05906827e-05 1.99969848e+00 0.00000000e+00\n 2.02287680e-05 1.99969848e+00 0.00000000e+00 1.98128796e-05\n 1.99969848e+00 0.00000000e+00 1.93442938e-05 1.99969848e+00\n 0.00000000e+00 1.88244269e-05 1.99969848e+00 0.00000000e+00\n 1.82548306e-05 1.99969848e+00 0.00000000e+00 1.76371875e-05\n 1.99969848e+00 0.00000000e+00 1.69733060e-05 1.99969848e+00\n 0.00000000e+00 1.62651155e-05 1.99969848e+00 0.00000000e+00\n 1.55146602e-05 1.99969848e+00 0.00000000e+00 1.47240939e-05\n 1.99969848e+00 0.00000000e+00 1.38956733e-05 1.99969848e+00\n 0.00000000e+00 1.30317519e-05 1.99969848e+00 0.00000000e+00\n 1.21347732e-05 1.99969848e+00 0.00000000e+00 1.12072639e-05\n 1.99969848e+00 0.00000000e+00 1.02518268e-05 1.99969848e+00\n 0.00000000e+00 9.27113342e-06 1.99969848e+00 0.00000000e+00\n 8.26791681e-06 1.99969848e+00 0.00000000e+00 7.24496362e-06\n 1.99969848e+00 0.00000000e+00 6.20510661e-06 1.99969848e+00\n 0.00000000e+00 5.15121677e-06 1.99969848e+00 0.00000000e+00\n 4.08619540e-06 1.99969848e+00 0.00000000e+00 3.01296617e-06\n 1.99969848e+00 0.00000000e+00]\n(90, 90)\n[[0.         2.         0.56519338]]\nfloat64\n"
    }
   ],
   "source": [
    "# Generate simulation\n",
    "dyn = d.PyDyn('../Data/point-mass_pendulum.sim', time_length)\n",
    "state_init = dyn.compute(dyn.p_init)\n",
    "f = dyn.f(state_init, dyn.p_init)\n",
    "df = dyn.df_dp(state_init, dyn.p_init)\n",
    "dy = dyn.dy_dp(state_init, dyn.p_init)\n",
    "print(state_init.y)\n",
    "print(dy.shape)\n",
    "#Sample targets only variables in z direction\n",
    "y_target = np.zeros((samplenum, 3))\n",
    "y_target[:,2] = np.random.rand(samplenum)\n",
    "#x[:,0] = np.random.rand(samplenum)\n",
    "y_target[:,1] = 2\n",
    "print(y_target)\n",
    "p = dyn.get_p(y_target.transpose(), dyn.p_init)\n",
    "y_target= torch.tensor(y_target, requires_grad= True)\n",
    "print(p.dtype)"
   ]
  },
  {
   "cell_type": "markdown",
   "metadata": {},
   "source": [
    "## Building the custon Simulation Activation Function"
   ]
  },
  {
   "cell_type": "code",
   "execution_count": 5,
   "metadata": {},
   "outputs": [],
   "source": [
    "class Simulate(torch.autograd.Function):\n",
    "    \n",
    "    @staticmethod\n",
    "    def forward(ctx, input):\n",
    "        p = input.clone().numpy().transpose()\n",
    "        state = dyn.compute(p)\n",
    "        y_pred = torch.tensor(state.y[-3:])\n",
    "        \n",
    "        ctx.save_for_backward(input)\n",
    "        \n",
    "        return y_pred\n",
    "    \n",
    "    @staticmethod\n",
    "    def backward(ctx, grad_output):\n",
    "        #print(grad_output.shape)\n",
    "        input, = ctx.saved_tensors\n",
    "        p = input.clone().numpy().transpose()\n",
    "        state= dyn.compute(p)\n",
    "        dy_dp = dyn.dy_dp(state, p)\n",
    "        dy_dp = dy_dp[-3:, :]\n",
    "        grad_output = grad_output.unsqueeze(0)\n",
    "        \n",
    "        grad_input = torch.tensor(dy_dp).t().mm(grad_output.t()).t()\n",
    "        return grad_input\n",
    "Simulate = Simulate.apply\n",
    "\n",
    "class Lossfunction(nn.Module):\n",
    "\n",
    "    def __init__(self, n_in, out_sz):\n",
    "        super(Lossfunction, self).__init__()\n",
    "\n",
    "        self.criterion = nn.MSELoss()\n",
    "    \n",
    "    def forward(self, input):\n",
    "        p0 = dyn.p_init\n",
    "        y = y_target.clone()\n",
    "        y_pred = Simulate(input)\n",
    "        e1 = (input[0:3*(30-1)] - input[3:3*30]).pow(2).sum()\n",
    "        e2 = self.criterion(input[0:3].double(), torch.tensor(p0[0:3]))\n",
    "        e3 = self.criterion(y_pred.float(), y)\n",
    "        Loss = e1 + e2 + e3\n",
    "        return Loss\n",
    "    \n",
    "model = Lossfunction(3*30, output_size) # Input size is now size of p and not size of y_target\n",
    "\n"
   ]
  },
  {
   "cell_type": "code",
   "execution_count": 11,
   "metadata": {},
   "outputs": [
    {
     "output_type": "stream",
     "name": "stdout",
     "text": "True\n"
    }
   ],
   "source": [
    "from torch.autograd import gradcheck\n",
    "\n",
    "#p = dyn.p_init\n",
    "p = torch.tensor(p, requires_grad = True)\n",
    "input = (p.double())\n",
    "#print(input)\n",
    "test = gradcheck(model, (input,), eps=1e-5, atol=1e-4, raise_exception = True)\n",
    "print(test)"
   ]
  }
 ],
 "metadata": {
  "kernelspec": {
   "display_name": "Python 3",
   "language": "python",
   "name": "python3"
  },
  "language_info": {
   "codemirror_mode": {
    "name": "ipython",
    "version": 3
   },
   "file_extension": ".py",
   "mimetype": "text/x-python",
   "name": "python",
   "nbconvert_exporter": "python",
   "pygments_lexer": "ipython3",
   "version": "3.7.3-final"
  }
 },
 "nbformat": 4,
 "nbformat_minor": 2
}