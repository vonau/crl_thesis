{
 "cells": [
  {
   "cell_type": "code",
   "execution_count": 1,
   "metadata": {},
   "outputs": [],
   "source": [
    "import numpy as np\n",
    "import torch\n",
    "import torch.nn as nn\n",
    "import pandas as pd\n",
    "import time\n",
    "import pydde as d"
   ]
  },
  {
   "cell_type": "code",
   "execution_count": 35,
   "metadata": {},
   "outputs": [],
   "source": [
    "#Parameters\n",
    "samplenum = 4\n",
    "input_size = 3\n",
    "output_size = 3\n",
    "time_length = 3; #ms"
   ]
  },
  {
   "cell_type": "code",
   "execution_count": 37,
   "metadata": {
    "tags": []
   },
   "outputs": [
    {
     "output_type": "execute_result",
     "data": {
      "text/plain": "torch.Size([4, 9])"
     },
     "metadata": {},
     "execution_count": 37
    }
   ],
   "source": [
    "# Generate simulation\n",
    "dyn = d.PyDyn('../Data/point-mass_pendulum.sim', time_length)\n",
    "state_init = dyn.compute(dyn.p_init)\n",
    "f = dyn.f(state_init, dyn.p_init)\n",
    "df = dyn.df_dp(state_init, dyn.p_init)\n",
    "dy = dyn.dy_dp(state_init, dyn.p_init)\n",
    "#Sample targets only variables in z direction\n",
    "y_target = np.zeros((samplenum, 3))\n",
    "y_target[:,2] = np.random.rand(samplenum)\n",
    "y_target[:,1] = 2\n",
    "#print(y_target)\n",
    "\n",
    "###################################\n",
    "#USE P FROM TRAJ_OPT\n",
    "p = np.ones((3*time_length, samplenum))\n",
    "for i in range(samplenum):\n",
    "    p[:,i] = dyn.get_p(y_target.transpose()[:,i], dyn.p_init)\n",
    "p = torch.tensor(p, requires_grad = True).t()#Sample targets only variables in z direction\n",
    "y_target = np.zeros((samplenum, 3))\n",
    "y_target[:,2] = np.random.rand(samplenum)\n",
    "y_target[:,1] = 2\n",
    "#print(y_target)\n",
    "\n",
    "###################################\n",
    "#USE P FROM TRAJ_OPT\n",
    "p = np.ones((3*time_length, samplenum))\n",
    "for i in range(samplenum):\n",
    "    p[:,i] = dyn.get_p(y_target.transpose()[:,i], dyn.p_init)\n",
    "p = torch.tensor(p, requires_grad = True).t()\n",
    "p.shape"
   ]
  },
  {
   "cell_type": "code",
   "execution_count": 30,
   "metadata": {
    "tags": []
   },
   "outputs": [
    {
     "output_type": "stream",
     "name": "stdout",
     "text": "tensor([[0., 3., 0., 0., 3., 0., 0., 3., 0.],\n        [0., 3., 0., 0., 3., 0., 0., 3., 0.],\n        [0., 3., 0., 0., 3., 0., 0., 3., 0.],\n        [0., 3., 0., 0., 3., 0., 0., 3., 0.]], dtype=torch.float64,\n       grad_fn=<TBackward>)\ntorch.Size([4, 9])\n"
    }
   ],
   "source": [
    "##############################\n",
    "#USE P_INIT ONLY\n",
    "p = np.ones((3*time_length, samplenum))\n",
    "for i in range(samplenum):\n",
    "    p[:,i] = dyn.p_init\n",
    "p = torch.tensor(p, requires_grad = True).t()\n",
    "input = p.double()\n",
    "print(p)\n",
    "print(p.shape)"
   ]
  },
  {
   "cell_type": "markdown",
   "metadata": {},
   "source": [
    "## Building the custon Simulation Activation Function"
   ]
  },
  {
   "cell_type": "code",
   "execution_count": 33,
   "metadata": {},
   "outputs": [],
   "source": [
    "#MODEL FOR TESTS\n",
    "\n",
    "class Simulate(torch.autograd.Function):\n",
    "    \n",
    "    @staticmethod\n",
    "    def forward(ctx, input):\n",
    "        #print(f'input: {input}')\n",
    "        p = input.clone().numpy().transpose()\n",
    "        y_pred = torch.ones([samplenum,3])\n",
    "        for i in range(len(p[0, :])):\n",
    "            state = dyn.compute(p[:,i])\n",
    "            y_pred[i, :] = torch.tensor(state.y[-3:])\n",
    "        print(f'y_pred: {y_pred}')\n",
    "        \n",
    "        ctx.save_for_backward(input)\n",
    "        \n",
    "        return y_pred\n",
    "        \n",
    "    @staticmethod\n",
    "    def backward(ctx, grad_output):\n",
    "        input, = ctx.saved_tensors\n",
    "        p = input.clone().numpy().transpose()\n",
    "        dy_dp_batch = torch.zeros([3, 3*time_length])\n",
    "        for i in range(samplenum):\n",
    "            state= dyn.compute(p[:, i])\n",
    "            dy_dp = dyn.dy_dp(state, p[:, i])\n",
    "            dy_dp = torch.tensor(dy_dp[-3:, :])\n",
    "            dy_dp_batch = dy_dp_batch + dy_dp\n",
    "        print(f'shape of dy/dp_batch: {dy_dp_batch.shape}')\n",
    "        \n",
    "        grad_input = torch.tensor(grad_output.double().mm(dy_dp_batch))/samplenum\n",
    "        print(f'shape of grad input: {grad_input.shape}')\n",
    "        print(f'shape of grad output: {grad_output.shape}')\n",
    "        print(f'grad_input: {grad_input}')\n",
    "        print(f'grad_output: {grad_output}')\n",
    "        return grad_input    \n",
    "\n",
    "Simulate = Simulate.apply"
   ]
  },
  {
   "cell_type": "code",
   "execution_count": 38,
   "metadata": {},
   "outputs": [],
   "source": [
    "################################\n",
    "#MODEL\n",
    "\n",
    "class Simulate(torch.autograd.Function):\n",
    "    \n",
    "    @staticmethod\n",
    "    def forward(ctx, input):\n",
    "        #print(f'input: {input.shape}')\n",
    "        p = input.clone().numpy().transpose()\n",
    "        y_pred = torch.ones([len(p[0, :]),3])\n",
    "        for i in range(len(p[0, :])):\n",
    "            state = dyn.compute(p[:,i])\n",
    "            y_pred[i, :] = torch.tensor(state.y[-3:])\n",
    "        #print(f'y_pred: {y_pred.shape}')\n",
    "        \n",
    "        ctx.save_for_backward(input)\n",
    "        \n",
    "        return y_pred\n",
    "        \n",
    "    @staticmethod\n",
    "    def backward(ctx, grad_output):\n",
    "        #print(grad_output)\n",
    "        input, = ctx.saved_tensors\n",
    "        p = input.clone().numpy().transpose()\n",
    "        dy_dp_batch = torch.zeros([3, 3*time_length])\n",
    "        for i in range(len(p[0, :])):\n",
    "            state= dyn.compute(p[:, i])\n",
    "            dy_dp = dyn.dy_dp(state, p[:, i])\n",
    "            dy_dp = torch.tensor(dy_dp[-3:, :])\n",
    "            dy_dp_batch = dy_dp_batch + dy_dp\n",
    "        #print(f'dy/dp_batch: {dy_dp_batch/samplenum}')\n",
    "        \n",
    "        grad_input = torch.tensor(grad_output.double().mm(dy_dp_batch/samplenum))\n",
    "        #print(f'shape of grad input: {grad_input.shape}')\n",
    "        #print(f'shape of grad output: {grad_output.shape}')\n",
    "        return grad_input\n",
    "\n",
    "Simulate = Simulate.apply"
   ]
  },
  {
   "cell_type": "code",
   "execution_count": 42,
   "metadata": {
    "tags": []
   },
   "outputs": [
    {
     "output_type": "stream",
     "name": "stdout",
     "text": "True\n"
    }
   ],
   "source": [
    "#GRADCHECK\n",
    "from torch.autograd import gradcheck\n",
    "\n",
    "test = gradcheck(Simulate, (input,), eps=1e-3, atol=1e-4, raise_exception = True)\n",
    "print(test)"
   ]
  }
 ],
 "metadata": {
  "kernelspec": {
   "display_name": "Python 3",
   "language": "python",
   "name": "python3"
  },
  "language_info": {
   "codemirror_mode": {
    "name": "ipython",
    "version": 3
   },
   "file_extension": ".py",
   "mimetype": "text/x-python",
   "name": "python",
   "nbconvert_exporter": "python",
   "pygments_lexer": "ipython3",
   "version": "3.7.3-final"
  }
 },
 "nbformat": 4,
 "nbformat_minor": 2
}