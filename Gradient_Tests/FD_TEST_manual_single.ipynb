{
 "cells": [
  {
   "cell_type": "code",
   "execution_count": 11,
   "metadata": {},
   "outputs": [],
   "source": [
    "import numpy as np\n",
    "import torch\n",
    "import torch.nn as nn\n",
    "import pandas as pd\n",
    "from torch.utils.data import Dataset\n",
    "from torch.utils.data import DataLoader\n",
    "import time\n",
    "import pydde as d"
   ]
  },
  {
   "cell_type": "code",
   "execution_count": 12,
   "metadata": {},
   "outputs": [],
   "source": [
    "#Parameters\n",
    "samplenum = 1\n",
    "epochs = 200\n",
    "input_size = 3\n",
    "output_size = 3\n",
    "learning_rate = 0.01\n",
    "time_length = 3; #seconds"
   ]
  },
  {
   "cell_type": "code",
   "execution_count": 13,
   "metadata": {},
   "outputs": [
    {
     "output_type": "stream",
     "name": "stdout",
     "text": "[[0.         2.         0.19606366]]\nfloat64\n"
    }
   ],
   "source": [
    "# Generate simulation\n",
    "dyn = d.PyDyn('../Data/point-mass_pendulum.sim', time_length)\n",
    "state_init = dyn.compute(dyn.p_init)\n",
    "f = dyn.f(state_init, dyn.p_init)\n",
    "df = dyn.df_dp(state_init, dyn.p_init)\n",
    "dy = dyn.dy_dp(state_init, dyn.p_init)\n",
    "\n",
    "#Sample targets only variables in z direction\n",
    "y_target = np.zeros((samplenum, 3))\n",
    "y_target[:,2] = np.random.rand(samplenum)\n",
    "y_target[:,1] = 2\n",
    "print(y_target)\n",
    "\n",
    "p = dyn.get_p(y_target.transpose(), dyn.p_init)\n",
    "y_target= torch.tensor(y_target, requires_grad= True)"
   ]
  },
  {
   "cell_type": "markdown",
   "metadata": {},
   "source": [
    "## Building the custon Simulation Activation Function"
   ]
  },
  {
   "cell_type": "code",
   "execution_count": 14,
   "metadata": {},
   "outputs": [],
   "source": [
    "class Simulate(torch.autograd.Function):\n",
    "    \n",
    "    @staticmethod\n",
    "    def forward(ctx, input):\n",
    "        #print(f'input: {input.shape}')\n",
    "        p = input.clone().numpy().transpose()\n",
    "        state = dyn.compute(p)\n",
    "        y_pred = torch.tensor(state.y[-3:], requires_grad = True)\n",
    "        #print(f'y_pred: {y_pred.dtype}')\n",
    "        \n",
    "        ctx.save_for_backward(input)\n",
    "        \n",
    "        return y_pred, input\n",
    "    \n",
    "    @staticmethod\n",
    "    def backward(ctx, grad_output, input):\n",
    "        #print(grad_output.shape)\n",
    "        input, = ctx.saved_tensors\n",
    "        p = input.clone().numpy().transpose()\n",
    "        state= dyn.compute(p)\n",
    "        dy_dp = dyn.dy_dp(state, p)\n",
    "        dy_dp = dy_dp[-3:, :]\n",
    "        print(f'shape of dy/dp: {dy_dp.shape}')\n",
    "        print(f'shape of grad_output: {grad_output.shape}')\n",
    "        grad_output = grad_output.unsqueeze(0).t()\n",
    "        print(f'shape of grad_output unsqueezed: {grad_output.shape}')\n",
    "        \n",
    "        grad_input = torch.tensor(dy_dp, requires_grad = True).t().mm(grad_output).t()\n",
    "        #grad_input = torch.tensor(dy_dp, requires_grad = True)\n",
    "        print(f'shape of grad_input: {grad_input.dtype}')\n",
    "\n",
    "        return grad_input, None\n",
    "\n",
    "Simulate = Simulate.apply\n",
    "class ActiveLearn(nn.Module):\n",
    "\n",
    "    def __init__(self, n_in, out_sz):\n",
    "        super(ActiveLearn, self).__init__()\n",
    "\n",
    "        self.L_in = nn.Linear(n_in, 3*time_length).double()\n",
    "        self.Relu = nn.ReLU(inplace=True).double()\n",
    "        self.P = nn.Linear(3*time_length, 3*time_length).double()\n",
    "        #self.L_out = nn.Linear(3, 3)\n",
    "    \n",
    "    def forward(self, input):\n",
    "        x = self.L_in(input)\n",
    "        x = self.Relu(x)\n",
    "        x = self.P(x)\n",
    "        x, p = Simulate(x)\n",
    "        #x = self.L_out(x)\n",
    "        return x, p\n",
    "    \n",
    "model = ActiveLearn(input_size, output_size)\n",
    "\n"
   ]
  },
  {
   "cell_type": "markdown",
   "metadata": {},
   "source": [
    "## FE Test for custom function"
   ]
  },
  {
   "cell_type": "code",
   "execution_count": 15,
   "metadata": {},
   "outputs": [
    {
     "output_type": "stream",
     "name": "stdout",
     "text": "shape of dy/dp: (3, 9)\nshape of grad_output: torch.Size([3])\nshape of grad_output unsqueezed: torch.Size([3, 1])\nshape of grad_input: torch.float64\ndy_dp shape = torch.Size([9])\ndy_dp = tensor([ 0.0079, -0.0581,  0.0079,  0.0058,  0.1788,  0.0062,  0.0028,  0.9026,\n         0.0051], dtype=torch.float64)\n dy_dp_FD = [[ 0.00793809 -0.05814328  0.00789857  0.005836    0.17882516  0.00617314\n   0.00284413  0.90260386  0.00507941]]\n dy_dp_FD = (1, 9)\n6.688302177514362e-10\n"
    }
   ],
   "source": [
    "# Error for whole simulation\n",
    "from numpy import linalg as LA\n",
    "\n",
    "FE = 1e-6\n",
    "p = torch.tensor(p, requires_grad = True).double()\n",
    "y, p0 = Simulate(p)\n",
    "#test = sum(y)\n",
    "#test.backward()\n",
    "y.backward(torch.FloatTensor([1.0, 1.0, 1.0]).double())\n",
    "dy_dp = p.grad.double()\n",
    "print(f'dy_dp shape = {p.grad.shape}')\n",
    "print(f'dy_dp = {dy_dp}')\n",
    "dy_dp_FD = np.zeros((1,len(dyn.p_init)))\n",
    "#dy_dp_FD = np.zeros((3,len(dyn.p_init)))\n",
    "\n",
    "for i in range(len(dyn.p_init)):\n",
    "    dp= np.zeros(len(dyn.p_init))\n",
    "    dp[i] = FE\n",
    "    dp = torch.tensor(dp)\n",
    "    y_p, pp = Simulate(p + dp)\n",
    "    y_m, pm = Simulate(p - dp)\n",
    "    y_p = y_p.detach().numpy()\n",
    "    y_m = y_m.detach().numpy()\n",
    "    dy_dp_FD[0, i] = sum((y_p - y_m) / (2* FE))\n",
    "    #dy_dp_FD[:, i] = (y_p - y_m) / (2* FE)\n",
    "\n",
    "\n",
    "print(f' dy_dp_FD = {dy_dp_FD}')\n",
    "print(f' dy_dp_FD = {dy_dp_FD.shape}')\n",
    "dy_dp = dy_dp.detach().numpy()\n",
    "err = LA.norm(dy_dp_FD - dy_dp)\n",
    "print('The error is: 'err)"
   ]
  },
  {
   "cell_type": "markdown",
   "metadata": {},
   "source": [
    "## FD Test for dy_dp Function"
   ]
  },
  {
   "cell_type": "code",
   "execution_count": 16,
   "metadata": {
    "tags": [
     "outputPrepend",
     "outputPrepend",
     "outputPrepend",
     "outputPrepend",
     "outputPrepend",
     "outputPrepend",
     "outputPrepend",
     "outputPrepend",
     "outputPrepend",
     "outputPrepend",
     "outputPrepend",
     "outputPrepend",
     "outputPrepend",
     "outputPrepend",
     "outputPrepend",
     "outputPrepend",
     "outputPrepend",
     "outputPrepend",
     "outputPrepend",
     "outputPrepend",
     "outputPrepend",
     "outputPrepend",
     "outputPrepend",
     "outputPrepend",
     "outputPrepend",
     "outputPrepend",
     "outputPrepend"
    ]
   },
   "outputs": [
    {
     "output_type": "stream",
     "name": "stdout",
     "text": "2.5942135105905507e-06\n"
    }
   ],
   "source": [
    "from numpy import linalg as LA\n",
    "\n",
    "#Calculate dy_dp with FE\n",
    "FE = 1e-6\n",
    "dy_dp = dyn.dy_dp(state_init, dyn.p_init)\n",
    "dy_dp_FD = np.zeros((len(dyn.p_init),len(dyn.p_init)))\n",
    "\n",
    "for i in range(len(dyn.p_init)):\n",
    "    dp= np.zeros(len(dyn.p_init))\n",
    "    dp[i] = FE\n",
    "    pos = dyn.p_init + dp\n",
    "    y_p = dyn.compute(pos)\n",
    "    y_m = dyn.compute(dyn.p_init - dp)\n",
    "    dy_dp_FD[:, i] = (y_p.y - y_m.y) / (2* FE)\n",
    "err = LA.norm(dy_dp_FD - dy_dp)\n",
    "print(err)\n"
   ]
  }
 ],
 "metadata": {
  "kernelspec": {
   "display_name": "Python 3",
   "language": "python",
   "name": "python3"
  },
  "language_info": {
   "codemirror_mode": {
    "name": "ipython",
    "version": 3
   },
   "file_extension": ".py",
   "mimetype": "text/x-python",
   "name": "python",
   "nbconvert_exporter": "python",
   "pygments_lexer": "ipython3",
   "version": "3.7.3-final"
  }
 },
 "nbformat": 4,
 "nbformat_minor": 2
}