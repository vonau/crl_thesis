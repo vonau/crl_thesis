{
 "cells": [
  {
   "cell_type": "code",
   "execution_count": 1,
   "metadata": {
    "tags": []
   },
   "outputs": [
    {
     "output_type": "error",
     "ename": "RuntimeError",
     "evalue": "[json.exception.parse_error.101] parse error at line 1, column 1: syntax error while parsing value - unexpected end of input; expected '[', '{', or a literal",
     "traceback": [
      "\u001b[0;31m---------------------------------------------------------------------------\u001b[0m",
      "\u001b[0;31mRuntimeError\u001b[0m                              Traceback (most recent call last)",
      "\u001b[0;32m<ipython-input-1-4a433dfb836f>\u001b[0m in \u001b[0;36m<module>\u001b[0;34m\u001b[0m\n\u001b[1;32m     24\u001b[0m \u001b[0;31m# LOAD SIMULATION AND OBJECTIVE FUNCTION\u001b[0m\u001b[0;34m\u001b[0m\u001b[0;34m\u001b[0m\u001b[0;34m\u001b[0m\u001b[0m\n\u001b[1;32m     25\u001b[0m \u001b[0mdyn\u001b[0m \u001b[0;34m=\u001b[0m \u001b[0mdde\u001b[0m\u001b[0;34m.\u001b[0m\u001b[0mDynamicSequence\u001b[0m\u001b[0;34m(\u001b[0m\u001b[0;34m)\u001b[0m\u001b[0;34m\u001b[0m\u001b[0;34m\u001b[0m\u001b[0m\n\u001b[0;32m---> 26\u001b[0;31m \u001b[0mdyn\u001b[0m\u001b[0;34m.\u001b[0m\u001b[0mloadFile\u001b[0m\u001b[0;34m(\u001b[0m\u001b[0msimulation_file_path\u001b[0m\u001b[0;34m,\u001b[0m \u001b[0mnTimeSteps\u001b[0m\u001b[0;34m)\u001b[0m\u001b[0;34m\u001b[0m\u001b[0;34m\u001b[0m\u001b[0m\n\u001b[0m\u001b[1;32m     27\u001b[0m \u001b[0mp_init\u001b[0m \u001b[0;34m=\u001b[0m \u001b[0mnp\u001b[0m\u001b[0;34m.\u001b[0m\u001b[0mzeros\u001b[0m\u001b[0;34m(\u001b[0m\u001b[0mdyn\u001b[0m\u001b[0;34m.\u001b[0m\u001b[0mp0\u001b[0m\u001b[0;34m.\u001b[0m\u001b[0msize\u001b[0m\u001b[0;34m*\u001b[0m\u001b[0mnTimeSteps\u001b[0m\u001b[0;34m)\u001b[0m\u001b[0;34m\u001b[0m\u001b[0;34m\u001b[0m\u001b[0m\n\u001b[1;32m     28\u001b[0m \u001b[0;32mfor\u001b[0m \u001b[0mi\u001b[0m \u001b[0;32min\u001b[0m \u001b[0mrange\u001b[0m\u001b[0;34m(\u001b[0m\u001b[0;36m0\u001b[0m\u001b[0;34m,\u001b[0m\u001b[0mnTimeSteps\u001b[0m\u001b[0;34m)\u001b[0m\u001b[0;34m:\u001b[0m\u001b[0;34m\u001b[0m\u001b[0;34m\u001b[0m\u001b[0m\n",
      "\u001b[0;31mRuntimeError\u001b[0m: [json.exception.parse_error.101] parse error at line 1, column 1: syntax error while parsing value - unexpected end of input; expected '[', '{', or a literal"
     ]
    }
   ],
   "source": [
    "####################################\n",
    "#LIBRARIES\n",
    "\n",
    "import numpy as np\n",
    "import torch\n",
    "import torch.nn as nn\n",
    "import pandas as pd\n",
    "import time\n",
    "import pydde as dde\n",
    "import json\n",
    "\n",
    "#Parameters\n",
    "samplenum = 3\n",
    "input_size = 3\n",
    "output_size = 3\n",
    "nTimeSteps = 1\n",
    "simulation_file_path = '../Data/Simulations/pm_target.sim'\n",
    "objective_file_path = f'../Data/Objectives/pm_target_{nTimeSteps}.obj'\n",
    "\n",
    "# set log level\n",
    "dde.set_log_level(dde.LogLevel.off)\n",
    "\n",
    "#######################################\n",
    "# LOAD SIMULATION AND OBJECTIVE FUNCTION\n",
    "dyn = dde.DynamicSequence()\n",
    "dyn.loadFile(simulation_file_path, nTimeSteps)\n",
    "p_init = np.zeros(dyn.p0.size*nTimeSteps)\n",
    "for i in range(0,nTimeSteps):\n",
    "\tp_init[i*dyn.p0.size : (i+1)*dyn.p0.size] = dyn.p0\n",
    "state_init = dyn.q(p_init)\n",
    "r = dyn.r(state_init, p_init)\n",
    "dr = dyn.dr_dp(state_init, p_init)\n",
    "dq = dyn.dq_dp(state_init, p_init)\n",
    "\n",
    "#sample p\n",
    "p = np.ones((3*nTimeSteps, samplenum))\n",
    "for i in range(samplenum):\n",
    "    p[:,i] = p_init\n",
    "#p = torch.tensor(p, requires_grad = True).t()\n",
    "\n",
    "##########################################\n",
    "#SAMPLE TARGETS\n",
    "y_target = np.zeros((samplenum,3))\n",
    "y_target[:,2] = np.random.rand(samplenum)\n",
    "y_target[:,1] = np.random.rand( samplenum)\n",
    "y_target[:,0] = np.random.rand(samplenum)\n",
    "\n",
    "#############################################\n",
    "#LOAD OBJECTIVE PYDDE_V2\n",
    "obj = dde.InverseObjective(dyn)\n",
    "obj.loadFile(objective_file_path)\n",
    "objective_json = json.load(open(objective_file_path))\n",
    "\n",
    "#############################################\n",
    "#GENERATE OPTIMIZATION PYDDE_V2\n",
    "opt = dde.Newton()\n",
    "\n",
    "##########################################\n",
    "#SAMPLE P\n",
    "for i in range(samplenum):\n",
    "    objective_json[\"objectives\"][\"pmTargetPositions\"][0][\"targetPos\"] = ([[y_target[i,0]],[y_target[i,1]],[y_target[i,2]]]) \n",
    "    obj.loadJson(objective_json)\n",
    "    p[:,i] = opt.minimize(obj, p_init)\n",
    "p = torch.tensor(p, requires_grad = True).t()\n",
    "input = p.double()\n",
    "print(p.shape)"
   ]
  },
  {
   "cell_type": "code",
   "execution_count": 2,
   "metadata": {},
   "outputs": [],
   "source": [
    "##########################################\n",
    "#BUILD CUSTOM SIMULATION FUNCTION\n",
    "class Simulate(torch.autograd.Function):\n",
    "    \n",
    "    @staticmethod\n",
    "    def forward(ctx, input):\n",
    "        #print(f'input: {input.shape}')\n",
    "        p = input.clone().numpy().transpose()\n",
    "        y_pred = torch.ones([len(p[0, :]),3*nTimeSteps])\n",
    "        for i in range(len(p[0, :])):\n",
    "            state = dyn.q(p[:,i])\n",
    "            y_pred[i, :] = torch.tensor(state.q)\n",
    "        #print(f'y_pred: {y_pred.shape}')\n",
    "        \n",
    "        ctx.save_for_backward(input)\n",
    "        \n",
    "        return y_pred\n",
    "        \n",
    "    @staticmethod\n",
    "    def backward(ctx, grad_output):\n",
    "        #print(grad_output)\n",
    "        input, = ctx.saved_tensors\n",
    "        p = input.clone().numpy().transpose()\n",
    "        dq_dp_batch = torch.zeros([3*nTimeSteps, 3*nTimeSteps])\n",
    "        for i in range(len(p[0, :])):\n",
    "            state = dyn.q(p[:, i])\n",
    "            dq_dp = dyn.dq_dp(state, p[:, i])\n",
    "            dq_dp = torch.tensor(dq_dp)\n",
    "            dq_dp_batch = dq_dp_batch + dq_dp\n",
    "        #print(f'dy/dp_batch: {dy_dp_batch/samplenum}')\n",
    "        \n",
    "        grad_input = grad_output.mm(dq_dp_batch.float()/len(p[0,:]))\n",
    "        #print(f'shape of grad input: {grad_input.shape}')\n",
    "        #print(f'shape of grad output: {grad_output.shape}')\n",
    "        return grad_input\n",
    "\n",
    "Simulate = Simulate.apply"
   ]
  },
  {
   "cell_type": "code",
   "execution_count": 1,
   "metadata": {
    "tags": []
   },
   "outputs": [
    {
     "output_type": "error",
     "ename": "NameError",
     "evalue": "name 'Simulate' is not defined",
     "traceback": [
      "\u001b[0;31m---------------------------------------------------------------------------\u001b[0m",
      "\u001b[0;31mNameError\u001b[0m                                 Traceback (most recent call last)",
      "\u001b[0;32m<ipython-input-1-fa6fa6875707>\u001b[0m in \u001b[0;36m<module>\u001b[0;34m\u001b[0m\n\u001b[1;32m      2\u001b[0m \u001b[0;32mfrom\u001b[0m \u001b[0mtorch\u001b[0m\u001b[0;34m.\u001b[0m\u001b[0mautograd\u001b[0m \u001b[0;32mimport\u001b[0m \u001b[0mgradcheck\u001b[0m\u001b[0;34m\u001b[0m\u001b[0;34m\u001b[0m\u001b[0m\n\u001b[1;32m      3\u001b[0m \u001b[0;34m\u001b[0m\u001b[0m\n\u001b[0;32m----> 4\u001b[0;31m \u001b[0mtest\u001b[0m \u001b[0;34m=\u001b[0m \u001b[0mgradcheck\u001b[0m\u001b[0;34m(\u001b[0m\u001b[0mSimulate\u001b[0m\u001b[0;34m,\u001b[0m \u001b[0;34m(\u001b[0m\u001b[0minput\u001b[0m\u001b[0;34m,\u001b[0m\u001b[0;34m)\u001b[0m\u001b[0;34m,\u001b[0m \u001b[0meps\u001b[0m\u001b[0;34m=\u001b[0m\u001b[0;36m2e-3\u001b[0m\u001b[0;34m,\u001b[0m \u001b[0matol\u001b[0m\u001b[0;34m=\u001b[0m\u001b[0;36m1e-3\u001b[0m\u001b[0;34m,\u001b[0m \u001b[0mraise_exception\u001b[0m \u001b[0;34m=\u001b[0m \u001b[0;32mTrue\u001b[0m\u001b[0;34m)\u001b[0m\u001b[0;34m\u001b[0m\u001b[0;34m\u001b[0m\u001b[0m\n\u001b[0m\u001b[1;32m      5\u001b[0m \u001b[0mprint\u001b[0m\u001b[0;34m(\u001b[0m\u001b[0mtest\u001b[0m\u001b[0;34m)\u001b[0m\u001b[0;34m\u001b[0m\u001b[0;34m\u001b[0m\u001b[0m\n",
      "\u001b[0;31mNameError\u001b[0m: name 'Simulate' is not defined"
     ]
    }
   ],
   "source": [
    "#GRADCHECK\n",
    "from torch.autograd import gradcheck\n",
    "\n",
    "test = gradcheck(Simulate, (input,), eps=2e-3, atol=1e-3, raise_exception = True)\n",
    "print(test)"
   ]
  }
 ],
 "metadata": {
  "kernelspec": {
   "display_name": "Python 3.7.4 64-bit ('base': conda)",
   "language": "python",
   "name": "python37464bitbaseconda39d998b0540f4e659e09acca95c25f2f"
  },
  "language_info": {
   "codemirror_mode": {
    "name": "ipython",
    "version": 3
   },
   "file_extension": ".py",
   "mimetype": "text/x-python",
   "name": "python",
   "nbconvert_exporter": "python",
   "pygments_lexer": "ipython3",
   "version": "3.7.4-final"
  }
 },
 "nbformat": 4,
 "nbformat_minor": 2
}