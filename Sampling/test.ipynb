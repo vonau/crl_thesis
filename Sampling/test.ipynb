{
 "cells": [
  {
   "cell_type": "code",
   "execution_count": 5,
   "metadata": {
    "tags": []
   },
   "outputs": [
    {
     "output_type": "stream",
     "name": "stdout",
     "text": "cool\n"
    }
   ],
   "source": [
    "#LIBRARIES\n",
    "import numpy as np\n",
    "import torch\n",
    "import torch.nn as nn\n",
    "import pandas as pd\n",
    "import json\n",
    "import time\n",
    "import pydde as dde\n",
    "\n",
    "#PARAMETERS\n",
    "samplenum = 6\n",
    "nTimeSteps = 30 #at 60Hz\n",
    "batch_size = 2\n",
    "filenum = int(samplenum/batch_size)\n",
    "sample_file_path = '../Data/Samples/data_1x1_30t/'\n",
    "simulation_file_path = '../Data/Simulations/pm_target.sim'\n",
    "objective_file_path = \"../Data/Objectives/pm_target.obj\"\n",
    "# set log level\n",
    "dde.set_log_level(dde.LogLevel.off)\n",
    "\n",
    "#SAMPLE TARGETS AND STARTS\n",
    "y_target = np.zeros((samplenum,6))\n",
    "y_target[:,0] = np.random.rand(samplenum)\n",
    "y_target[:,1] = np.random.rand(samplenum)\n",
    "y_target[:,2] = np.random.rand(samplenum)\n",
    "print('cool')"
   ]
  },
  {
   "cell_type": "code",
   "execution_count": 6,
   "metadata": {},
   "outputs": [],
   "source": [
    "############################################\n",
    "#LOAD SIMULATION PYDDE_V2\n",
    "dyn = dde.DynamicSequence()\n",
    "dyn.loadFile(simulation_file_path, nTimeSteps)"
   ]
  },
  {
   "cell_type": "code",
   "execution_count": 7,
   "metadata": {},
   "outputs": [],
   "source": [
    "p_init = np.zeros(dyn.p0.size*nTimeSteps)\n",
    "for i in range(0,nTimeSteps):\n",
    "\tp_init[i*dyn.p0.size : (i+1)*dyn.p0.size] = dyn.p0\n",
    "state_init = dyn.q(p_init)\n",
    "r = dyn.r(state_init, p_init)\n",
    "dr = dyn.dr_dp(state_init, p_init)\n",
    "dq = dyn.dq_dp(state_init, p_init)"
   ]
  },
  {
   "cell_type": "code",
   "execution_count": 8,
   "metadata": {},
   "outputs": [],
   "source": [
    "#############################################\n",
    "#LOAD OBJECTIVE PYDDE_V2\n",
    "obj = dde.InverseObjective(dyn)\n",
    "obj.loadFile(objective_file_path)\n",
    "objective_json = json.load(open(objective_file_path))\n",
    "\n",
    "#############################################\n",
    "#GENERATE OPTIMIZATION PYDDE_V2\n",
    "opt = dde.Newton()"
   ]
  },
  {
   "cell_type": "code",
   "execution_count": 9,
   "metadata": {
    "tags": []
   },
   "outputs": [
    {
     "output_type": "stream",
     "name": "stdout",
     "text": "batch number 1 completed\n\nDuration: 0.051 min\nbatch number 2 completed\n\nDuration: 0.097 min\nbatch number 3 completed\n\nDuration: 0.137 min\n"
    }
   ],
   "source": [
    "####################################\n",
    "#SAMPLE P PYDDE V2\n",
    "start_time = time.time()\n",
    "\n",
    "for b in range(filenum):\n",
    "    data = {}\n",
    "    data['parameter'] = []\n",
    "    data['y_target'] = []\n",
    "    data['loss'] = []\n",
    "    data['iterations'] = []\n",
    "    data['gradnorm'] = []\n",
    "    for i in range(batch_size):\n",
    "        objective_json[\"objectives\"][\"pmTargetPositions\"][0][\"targetPos\"] = ([[y_target[b*batch_size+i,0]],[y_target[b*batch_size+i,1]],[y_target[b*batch_size+i,2]]]) \n",
    "        obj.loadJson(objective_json)\n",
    "        p_i = opt.minimize(obj, p_init)\n",
    "        data['y_target'].append(list(y_target[b*batch_size+i,:]))\n",
    "        data['parameter'].append(list(p_i))\n",
    "        data['loss'].append(obj.evaluate(p_i))\n",
    "        #data['iterations'].append(params.iterations)\n",
    "        #data['gradnorm'].append(params.grad)\n",
    "\n",
    "    with open(sample_file_path + f'data_{b}.json', 'w') as outfile:\n",
    "        json.dump(data, outfile)\n",
    "    print(f'batch number {b+1} completed')\n",
    "    print(f'\\nDuration: {(time.time() - start_time)/60:.3f} min') # print the time elapsed\n",
    "    \n",
    "#add description file\n",
    "Description = {}\n",
    "Description['Description'] = [{'samplenum': samplenum, 'samplesperfile': batch_size, 'time length': nTimeSteps, 'range from': [0, 2, 0], 'range to': [2, 0, 2]}]\n",
    "with open(sample_file_path + 'Description.json', 'w') as outfile:\n",
    "    json.dump(Description, outfile)"
   ]
  }
 ],
 "metadata": {
  "kernelspec": {
   "display_name": "Python 3.7.4 64-bit ('base': conda)",
   "language": "python",
   "name": "python37464bitbaseconda39d998b0540f4e659e09acca95c25f2f"
  },
  "language_info": {
   "codemirror_mode": {
    "name": "ipython",
    "version": 3
   },
   "file_extension": ".py",
   "mimetype": "text/x-python",
   "name": "python",
   "nbconvert_exporter": "python",
   "pygments_lexer": "ipython3",
   "version": "3.7.4-final"
  }
 },
 "nbformat": 4,
 "nbformat_minor": 2
}