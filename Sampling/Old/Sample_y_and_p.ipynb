{
 "cells": [
  {
   "cell_type": "code",
   "execution_count": 1,
   "metadata": {
    "tags": []
   },
   "outputs": [],
   "source": [
    "import numpy as np\n",
    "import torch\n",
    "import torch.nn as nn\n",
    "import pandas as pd\n",
    "import json\n",
    "import time\n",
    "import pydde as d"
   ]
  },
  {
   "cell_type": "code",
   "execution_count": 2,
   "metadata": {
    "tags": []
   },
   "outputs": [],
   "source": [
    "#Parameters\n",
    "samplenum = 6\n",
    "time_length = 60 #seconds\n",
    "batch_size = 2\n",
    "filenum = int(samplenum/batch_size)"
   ]
  },
  {
   "cell_type": "code",
   "execution_count": 3,
   "metadata": {},
   "outputs": [],
   "source": [
    "# Generate simulation\n",
    "dyn = d.PyDyn('../Data/point-mass_pendulum.sim', time_length)\n",
    "state_init = dyn.compute(dyn.p_init)\n",
    "f = dyn.f(state_init, dyn.p_init)\n",
    "df = dyn.df_dp(state_init, dyn.p_init)\n",
    "dy = dyn.dy_dp(state_init, dyn.p_init)"
   ]
  },
  {
   "cell_type": "code",
   "execution_count": 4,
   "metadata": {},
   "outputs": [
    {
     "output_type": "execute_result",
     "data": {
      "text/plain": "6"
     },
     "metadata": {},
     "execution_count": 4
    }
   ],
   "source": [
    "#Sample targets\n",
    "y_target = np.zeros((samplenum,3))\n",
    "y_target[:,0] = np.random.rand(samplenum)*2\n",
    "y_target[:,1] = 2-np.random.rand(samplenum)*2\n",
    "#y_target[:,1] = 2\n",
    "y_target[:,2] = np.random.rand(samplenum)*2\n",
    "y_target[20:50, :]\n",
    "y_target[:, 0].size"
   ]
  },
  {
   "cell_type": "code",
   "execution_count": 5,
   "metadata": {
    "tags": []
   },
   "outputs": [
    {
     "output_type": "stream",
     "name": "stdout",
     "text": "8.257719829674409e-05\n8.125556101812652e-05\nbatch number 1 completed\n8.257719829674409e-05\n8.125556101812652e-05\nbatch number 2 completed\n8.257719829674409e-05\n8.125556101812652e-05\nbatch number 3 completed\n\nDuration: 0.375 min\n"
    }
   ],
   "source": [
    "#Sample p\n",
    "start_time = time.time()\n",
    "\n",
    "for b in range(filenum):\n",
    "    data = {}\n",
    "    data['parameter'] = []\n",
    "    data['y_target'] = []\n",
    "    data['loss'] = []\n",
    "    data['iterations'] = []\n",
    "    data['gradnorm'] = []\n",
    "    for i in range(batch_size):\n",
    "        params = dyn.get_p(y_target[i,:], dyn.p_init)\n",
    "        data['y_target'].append(list(y_target[i,:]))\n",
    "        data['parameter'].append(list(params.ptraj))\n",
    "        data['loss'].append(params.loss)\n",
    "        data['iterations'].append(params.iterations)\n",
    "        data['gradnorm'].append(params.grad)\n",
    "\n",
    "    with open(f'../Data/Samples/data_20k_2x2/data_{b}.json', 'w') as outfile:\n",
    "        json.dump(data, outfile)\n",
    "    print(f'batch number {b+1} completed')\n",
    "    print(f'\\nDuration: {(time.time() - start_time)/60:.3f} min') # print the time elapsed\n",
    "    \n",
    "#add description file\n",
    "Description = {}\n",
    "Description['Description'] = [{'samplenum': samplenum, 'samplesperfile': batch_size, 'time length': time_length, 'range from': [0, 2, 0], 'range to': [2, 0, 2]}]\n",
    "with open('../Data/Samples/data_20k_2x2/Description.json', 'w') as outfile:\n",
    "    json.dump(Description, outfile)"
   ]
  },
  {
   "cell_type": "code",
   "execution_count": null,
   "metadata": {},
   "outputs": [],
   "source": [
    "import seaborn as sns\n",
    "x = y_target[:, 0]\n",
    "sns.distplot(x)\n",
    "sns.distplot(x, bins=20, kde=False, rug=True)"
   ]
  }
 ],
 "metadata": {
  "kernelspec": {
   "display_name": "Python 3.7.4 64-bit ('base': conda)",
   "language": "python",
   "name": "python37464bitbaseconda39d998b0540f4e659e09acca95c25f2f"
  },
  "language_info": {
   "codemirror_mode": {
    "name": "ipython",
    "version": 3
   },
   "file_extension": ".py",
   "mimetype": "text/x-python",
   "name": "python",
   "nbconvert_exporter": "python",
   "pygments_lexer": "ipython3",
   "version": "3.7.4-final"
  }
 },
 "nbformat": 4,
 "nbformat_minor": 2
}