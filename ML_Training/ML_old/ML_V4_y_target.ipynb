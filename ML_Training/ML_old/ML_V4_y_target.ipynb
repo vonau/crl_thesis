{
 "cells": [
  {
   "cell_type": "code",
   "execution_count": 1,
   "metadata": {},
   "outputs": [],
   "source": [
    "import numpy as np\n",
    "import torch\n",
    "import torch.nn as nn\n",
    "import pandas as pd\n",
    "import time\n",
    "import pydde as d"
   ]
  },
  {
   "cell_type": "code",
   "execution_count": 2,
   "metadata": {},
   "outputs": [],
   "source": [
    "#Parameters\n",
    "samplenum = 50\n",
    "epochs = 20\n",
    "hiddenlayers = [120]\n",
    "input_size = 3\n",
    "output_size = 3\n",
    "learning_rate = 0.01\n",
    "time_length = 60; #seconds"
   ]
  },
  {
   "cell_type": "code",
   "execution_count": 3,
   "metadata": {},
   "outputs": [],
   "source": [
    "# Generate simulation\n",
    "dyn = d.PyDyn('Data/point-mass_pendulum.sim', time_length)\n",
    "state_init = dyn.compute(dyn.p_init)\n",
    "f = dyn.f(state_init, dyn.p_init)\n",
    "df = dyn.df_dp(state_init, dyn.p_init)\n",
    "dy = dyn.dy_dp(state_init, dyn.p_init)"
   ]
  },
  {
   "cell_type": "code",
   "execution_count": 4,
   "metadata": {},
   "outputs": [],
   "source": [
    "#Sample targets only variables in z direction\n",
    "y_target = np.zeros((samplenum,3))\n",
    "y_target[:,2] = np.random.rand(samplenum)\n",
    "#x[:,0] = np.random.rand(samplenum)\n",
    "y_target[:,1] = 2\n",
    "y_target= torch.tensor(y_target)"
   ]
  },
  {
   "cell_type": "markdown",
   "metadata": {},
   "source": [
    "## Building the custon Simulation Activation Function"
   ]
  },
  {
   "cell_type": "code",
   "execution_count": 6,
   "metadata": {},
   "outputs": [],
   "source": [
    "class Simulate(torch.autograd.Function):\n",
    "    \n",
    "    @staticmethod\n",
    "    def forward(ctx, input):\n",
    "        print(f'input: {input.shape}')\n",
    "        p = input.clone().numpy().transpose()\n",
    "        state = dyn.compute(p)\n",
    "        y_pred = torch.tensor(state.y[-3:])\n",
    "        print(f'y_pred: {y_pred.shape}')\n",
    "        \n",
    "        ctx.save_for_backward(input)\n",
    "        \n",
    "        return y_pred\n",
    "    \n",
    "    @staticmethod\n",
    "    def backward(ctx, grad_output):\n",
    "        print(grad_output.shape)\n",
    "        input, = ctx.saved_tensors\n",
    "        p = input.clone().numpy().transpose()\n",
    "        state= dyn.compute(p)\n",
    "        dy_dp = dyn.dy_dp(state, p)\n",
    "        dy_dp = dy_dp[-3:, :]\n",
    "        print(f'shape of dy/dp: {dy_dp.shape}')\n",
    "        #print(f'shape of grad_output: {grad_output.shape}')\n",
    "        grad_output = grad_output.unsqueeze(0)\n",
    "        \n",
    "        grad_input = torch.tensor(dy_dp).t().mm(grad_output.t()).t()\n",
    "        print(f'shape of dgrad_input: {grad_input.shape}')\n",
    "        return grad_input\n",
    "\n",
    "Simulate = Simulate.apply"
   ]
  },
  {
   "cell_type": "markdown",
   "metadata": {},
   "source": [
    "## Building the Model"
   ]
  },
  {
   "cell_type": "code",
   "execution_count": 7,
   "metadata": {},
   "outputs": [],
   "source": [
    "class ActiveLearn(nn.Module):\n",
    "\n",
    "    def __init__(self, n_in, out_sz):\n",
    "        super(ActiveLearn, self).__init__()\n",
    "\n",
    "        self.L_in = nn.Linear(n_in, hiddenlayers[0])\n",
    "        self.H1 = nn.Linear(hiddenlayers[0], 3*time_length)\n",
    "        #self.H1 = nn.Linear(hiddenlayers[0], hiddenlayers[1])\n",
    "        #self.H2 = nn.Linear(hiddenlayers[1], 3*time_length)\n",
    "        self.P = nn.Linear(3*time_length, 3*time_length)\n",
    "        self.Relu = nn.ReLU(inplace=True)\n",
    "    \n",
    "    def forward(self, input):\n",
    "        x = self.L_in(input)\n",
    "        x = self.Relu(x)\n",
    "        x = self.H1(x)\n",
    "        x = self.Relu(x)\n",
    "        #x = self.H2(x)\n",
    "        #x = self.Relu(x)\n",
    "        x = self.P(x)\n",
    "        return x\n",
    "\n",
    "\n",
    "model = ActiveLearn(input_size, output_size)\n",
    "\n",
    "criterion = nn.MSELoss()  # RMSE = np.sqrt(MSE)\n",
    "optimizer = torch.optim.Adam(model.parameters(), lr = learning_rate)\n",
    "\n",
    "y_target = y_target.float()"
   ]
  },
  {
   "cell_type": "markdown",
   "metadata": {},
   "source": [
    "## Train the model"
   ]
  },
  {
   "cell_type": "code",
   "execution_count": 8,
   "metadata": {
    "tags": [
     "outputPrepend",
     "outputPrepend",
     "outputPrepend",
     "outputPrepend",
     "outputPrepend",
     "outputPrepend",
     "outputPrepend",
     "outputPrepend",
     "outputPrepend",
     "outputPrepend",
     "outputPrepend",
     "outputPrepend",
     "outputPrepend",
     "outputPrepend"
    ]
   },
   "outputs": [
    {
     "output_type": "stream",
     "name": "stdout",
     "text": "rch.Size([180])\ny_pred: torch.Size([3])\ntorch.Size([3])\nshape of dy/dp: (3, 180)\nshape of dgrad_input: torch.Size([1, 180])\ninput: torch.Size([180])\ny_pred: torch.Size([3])\ntorch.Size([3])\nshape of dy/dp: (3, 180)\nshape of dgrad_input: torch.Size([1, 180])\ninput: torch.Size([180])\ny_pred: torch.Size([3])\ntorch.Size([3])\nshape of dy/dp: (3, 180)\nshape of dgrad_input: torch.Size([1, 180])\ninput: torch.Size([180])\ny_pred: torch.Size([3])\ntorch.Size([3])\nshape of dy/dp: (3, 180)\nshape of dgrad_input: torch.Size([1, 180])\ninput: torch.Size([180])\ny_pred: torch.Size([3])\ntorch.Size([3])\nshape of dy/dp: (3, 180)\nshape of dgrad_input: torch.Size([1, 180])\ninput: torch.Size([180])\ny_pred: torch.Size([3])\ntorch.Size([3])\nshape of dy/dp: (3, 180)\nshape of dgrad_input: torch.Size([1, 180])\ninput: torch.Size([180])\ny_pred: torch.Size([3])\ntorch.Size([3])\nshape of dy/dp: (3, 180)\nshape of dgrad_input: torch.Size([1, 180])\ninput: torch.Size([180])\ny_pred: torch.Size([3])\ntorch.Size([3])\nshape of dy/dp: (3, 180)\nshape of dgrad_input: torch.Size([1, 180])\ninput: torch.Size([180])\ny_pred: torch.Size([3])\ntorch.Size([3])\nshape of dy/dp: (3, 180)\nshape of dgrad_input: torch.Size([1, 180])\ninput: torch.Size([180])\ny_pred: torch.Size([3])\ntorch.Size([3])\nshape of dy/dp: (3, 180)\nshape of dgrad_input: torch.Size([1, 180])\ninput: torch.Size([180])\ny_pred: torch.Size([3])\ntorch.Size([3])\nshape of dy/dp: (3, 180)\nshape of dgrad_input: torch.Size([1, 180])\ninput: torch.Size([180])\ny_pred: torch.Size([3])\ntorch.Size([3])\nshape of dy/dp: (3, 180)\nshape of dgrad_input: torch.Size([1, 180])\ninput: torch.Size([180])\ny_pred: torch.Size([3])\ntorch.Size([3])\nshape of dy/dp: (3, 180)\nshape of dgrad_input: torch.Size([1, 180])\ninput: torch.Size([180])\ny_pred: torch.Size([3])\ntorch.Size([3])\nshape of dy/dp: (3, 180)\nshape of dgrad_input: torch.Size([1, 180])\ninput: torch.Size([180])\ny_pred: torch.Size([3])\ntorch.Size([3])\nshape of dy/dp: (3, 180)\nshape of dgrad_input: torch.Size([1, 180])\ninput: torch.Size([180])\ny_pred: torch.Size([3])\ntorch.Size([3])\nshape of dy/dp: (3, 180)\nshape of dgrad_input: torch.Size([1, 180])\ninput: torch.Size([180])\ny_pred: torch.Size([3])\ntorch.Size([3])\nshape of dy/dp: (3, 180)\nshape of dgrad_input: torch.Size([1, 180])\ninput: torch.Size([180])\ny_pred: torch.Size([3])\ntorch.Size([3])\nshape of dy/dp: (3, 180)\nshape of dgrad_input: torch.Size([1, 180])\ninput: torch.Size([180])\ny_pred: torch.Size([3])\ntorch.Size([3])\nshape of dy/dp: (3, 180)\nshape of dgrad_input: torch.Size([1, 180])\ninput: torch.Size([180])\ny_pred: torch.Size([3])\ntorch.Size([3])\nshape of dy/dp: (3, 180)\nshape of dgrad_input: torch.Size([1, 180])\ninput: torch.Size([180])\ny_pred: torch.Size([3])\ntorch.Size([3])\nshape of dy/dp: (3, 180)\nshape of dgrad_input: torch.Size([1, 180])\ninput: torch.Size([180])\ny_pred: torch.Size([3])\ntorch.Size([3])\nshape of dy/dp: (3, 180)\nshape of dgrad_input: torch.Size([1, 180])\ninput: torch.Size([180])\ny_pred: torch.Size([3])\ntorch.Size([3])\nshape of dy/dp: (3, 180)\nshape of dgrad_input: torch.Size([1, 180])\ninput: torch.Size([180])\ny_pred: torch.Size([3])\ntorch.Size([3])\nshape of dy/dp: (3, 180)\nshape of dgrad_input: torch.Size([1, 180])\ninput: torch.Size([180])\ny_pred: torch.Size([3])\ntorch.Size([3])\nshape of dy/dp: (3, 180)\nshape of dgrad_input: torch.Size([1, 180])\ninput: torch.Size([180])\ny_pred: torch.Size([3])\ntorch.Size([3])\nshape of dy/dp: (3, 180)\nshape of dgrad_input: torch.Size([1, 180])\ninput: torch.Size([180])\ny_pred: torch.Size([3])\ntorch.Size([3])\nshape of dy/dp: (3, 180)\nshape of dgrad_input: torch.Size([1, 180])\ninput: torch.Size([180])\ny_pred: torch.Size([3])\ntorch.Size([3])\nshape of dy/dp: (3, 180)\nshape of dgrad_input: torch.Size([1, 180])\ninput: torch.Size([180])\ny_pred: torch.Size([3])\ntorch.Size([3])\nshape of dy/dp: (3, 180)\nshape of dgrad_input: torch.Size([1, 180])\ninput: torch.Size([180])\ny_pred: torch.Size([3])\ntorch.Size([3])\nshape of dy/dp: (3, 180)\nshape of dgrad_input: torch.Size([1, 180])\ninput: torch.Size([180])\ny_pred: torch.Size([3])\ntorch.Size([3])\nshape of dy/dp: (3, 180)\nshape of dgrad_input: torch.Size([1, 180])\ninput: torch.Size([180])\ny_pred: torch.Size([3])\ntorch.Size([3])\nshape of dy/dp: (3, 180)\nshape of dgrad_input: torch.Size([1, 180])\ninput: torch.Size([180])\ny_pred: torch.Size([3])\ntorch.Size([3])\nshape of dy/dp: (3, 180)\nshape of dgrad_input: torch.Size([1, 180])\ninput: torch.Size([180])\ny_pred: torch.Size([3])\ntorch.Size([3])\nshape of dy/dp: (3, 180)\nshape of dgrad_input: torch.Size([1, 180])\ninput: torch.Size([180])\ny_pred: torch.Size([3])\ntorch.Size([3])\nshape of dy/dp: (3, 180)\nshape of dgrad_input: torch.Size([1, 180])\ninput: torch.Size([180])\ny_pred: torch.Size([3])\ntorch.Size([3])\nshape of dy/dp: (3, 180)\nshape of dgrad_input: torch.Size([1, 180])\ninput: torch.Size([180])\ny_pred: torch.Size([3])\ntorch.Size([3])\nshape of dy/dp: (3, 180)\nshape of dgrad_input: torch.Size([1, 180])\ninput: torch.Size([180])\ny_pred: torch.Size([3])\ntorch.Size([3])\nshape of dy/dp: (3, 180)\nshape of dgrad_input: torch.Size([1, 180])\ninput: torch.Size([180])\ny_pred: torch.Size([3])\ntorch.Size([3])\nshape of dy/dp: (3, 180)\nshape of dgrad_input: torch.Size([1, 180])\ninput: torch.Size([180])\ny_pred: torch.Size([3])\ntorch.Size([3])\nshape of dy/dp: (3, 180)\nshape of dgrad_input: torch.Size([1, 180])\ninput: torch.Size([180])\ny_pred: torch.Size([3])\ntorch.Size([3])\nshape of dy/dp: (3, 180)\nshape of dgrad_input: torch.Size([1, 180])\ninput: torch.Size([180])\ny_pred: torch.Size([3])\ntorch.Size([3])\nshape of dy/dp: (3, 180)\nshape of dgrad_input: torch.Size([1, 180])\ninput: torch.Size([180])\ny_pred: torch.Size([3])\ntorch.Size([3])\nshape of dy/dp: (3, 180)\nshape of dgrad_input: torch.Size([1, 180])\ninput: torch.Size([180])\ny_pred: torch.Size([3])\ntorch.Size([3])\nshape of dy/dp: (3, 180)\nshape of dgrad_input: torch.Size([1, 180])\ninput: torch.Size([180])\ny_pred: torch.Size([3])\ntorch.Size([3])\nshape of dy/dp: (3, 180)\nshape of dgrad_input: torch.Size([1, 180])\nepoch:   0/20  loss: 10.69601184  smoothness error: 8.83097458\ninput: torch.Size([180])\ny_pred: torch.Size([3])\ntorch.Size([3])\nshape of dy/dp: (3, 180)\nshape of dgrad_input: torch.Size([1, 180])\ninput: torch.Size([180])\ny_pred: torch.Size([3])\ntorch.Size([3])\nshape of dy/dp: (3, 180)\nshape of dgrad_input: torch.Size([1, 180])\ninput: torch.Size([180])\ny_pred: torch.Size([3])\ntorch.Size([3])\nshape of dy/dp: (3, 180)\nshape of dgrad_input: torch.Size([1, 180])\ninput: torch.Size([180])\ny_pred: torch.Size([3])\ntorch.Size([3])\nshape of dy/dp: (3, 180)\nshape of dgrad_input: torch.Size([1, 180])\ninput: torch.Size([180])\ny_pred: torch.Size([3])\ntorch.Size([3])\nshape of dy/dp: (3, 180)\nshape of dgrad_input: torch.Size([1, 180])\ninput: torch.Size([180])\ny_pred: torch.Size([3])\ntorch.Size([3])\nshape of dy/dp: (3, 180)\nshape of dgrad_input: torch.Size([1, 180])\ninput: torch.Size([180])\ny_pred: torch.Size([3])\ntorch.Size([3])\nshape of dy/dp: (3, 180)\nshape of dgrad_input: torch.Size([1, 180])\ninput: torch.Size([180])\ny_pred: torch.Size([3])\ntorch.Size([3])\nshape of dy/dp: (3, 180)\nshape of dgrad_input: torch.Size([1, 180])\ninput: torch.Size([180])\ny_pred: torch.Size([3])\ntorch.Size([3])\nshape of dy/dp: (3, 180)\nshape of dgrad_input: torch.Size([1, 180])\ninput: torch.Size([180])\ny_pred: torch.Size([3])\ntorch.Size([3])\nshape of dy/dp: (3, 180)\nshape of dgrad_input: torch.Size([1, 180])\ninput: torch.Size([180])\ny_pred: torch.Size([3])\ntorch.Size([3])\nshape of dy/dp: (3, 180)\nshape of dgrad_input: torch.Size([1, 180])\ninput: torch.Size([180])\ny_pred: torch.Size([3])\ntorch.Size([3])\nshape of dy/dp: (3, 180)\nshape of dgrad_input: torch.Size([1, 180])\ninput: torch.Size([180])\ny_pred: torch.Size([3])\ntorch.Size([3])\nshape of dy/dp: (3, 180)\nshape of dgrad_input: torch.Size([1, 180])\ninput: torch.Size([180])\ny_pred: torch.Size([3])\ntorch.Size([3])\nshape of dy/dp: (3, 180)\nshape of dgrad_input: torch.Size([1, 180])\ninput: torch.Size([180])\ny_pred: torch.Size([3])\ntorch.Size([3])\nshape of dy/dp: (3, 180)\nshape of dgrad_input: torch.Size([1, 180])\ninput: torch.Size([180])\ny_pred: torch.Size([3])\ntorch.Size([3])\nshape of dy/dp: (3, 180)\nshape of dgrad_input: torch.Size([1, 180])\ninput: torch.Size([180])\ny_pred: torch.Size([3])\ntorch.Size([3])\nshape of dy/dp: (3, 180)\nshape of dgrad_input: torch.Size([1, 180])\ninput: torch.Size([180])\ny_pred: torch.Size([3])\ntorch.Size([3])\nshape of dy/dp: (3, 180)\nshape of dgrad_input: torch.Size([1, 180])\ninput: torch.Size([180])\ny_pred: torch.Size([3])\ntorch.Size([3])\nshape of dy/dp: (3, 180)\nshape of dgrad_input: torch.Size([1, 180])\ninput: torch.Size([180])\ny_pred: torch.Size([3])\ntorch.Size([3])\nshape of dy/dp: (3, 180)\nshape of dgrad_input: torch.Size([1, 180])\ninput: torch.Size([180])\ny_pred: torch.Size([3])\ntorch.Size([3])\nshape of dy/dp: (3, 180)\nshape of dgrad_input: torch.Size([1, 180])\ninput: torch.Size([180])\ny_pred: torch.Size([3])\ntorch.Size([3])\nshape of dy/dp: (3, 180)\nshape of dgrad_input: torch.Size([1, 180])\ninput: torch.Size([180])\ny_pred: torch.Size([3])\ntorch.Size([3])\nshape of dy/dp: (3, 180)\nshape of dgrad_input: torch.Size([1, 180])\ninput: torch.Size([180])\ny_pred: torch.Size([3])\ntorch.Size([3])\nshape of dy/dp: (3, 180)\nshape of dgrad_input: torch.Size([1, 180])\ninput: torch.Size([180])\ny_pred: torch.Size([3])\ntorch.Size([3])\nshape of dy/dp: (3, 180)\nshape of dgrad_input: torch.Size([1, 180])\ninput: torch.Size([180])\ny_pred: torch.Size([3])\ntorch.Size([3])\nshape of dy/dp: (3, 180)\nshape of dgrad_input: torch.Size([1, 180])\ninput: torch.Size([180])\ny_pred: torch.Size([3])\ntorch.Size([3])\nshape of dy/dp: (3, 180)\nshape of dgrad_input: torch.Size([1, 180])\ninput: torch.Size([180])\ny_pred: torch.Size([3])\ntorch.Size([3])\nshape of dy/dp: (3, 180)\nshape of dgrad_input: torch.Size([1, 180])\ninput: torch.Size([180])\ny_pred: torch.Size([3])\ntorch.Size([3])\nshape of dy/dp: (3, 180)\nshape of dgrad_input: torch.Size([1, 180])\ninput: torch.Size([180])\ny_pred: torch.Size([3])\ntorch.Size([3])\nshape of dy/dp: (3, 180)\nshape of dgrad_input: torch.Size([1, 180])\ninput: torch.Size([180])\ny_pred: torch.Size([3])\ntorch.Size([3])\nshape of dy/dp: (3, 180)\nshape of dgrad_input: torch.Size([1, 180])\ninput: torch.Size([180])\ny_pred: torch.Size([3])\ntorch.Size([3])\nshape of dy/dp: (3, 180)\nshape of dgrad_input: torch.Size([1, 180])\ninput: torch.Size([180])\ny_pred: torch.Size([3])\ntorch.Size([3])\nshape of dy/dp: (3, 180)\nshape of dgrad_input: torch.Size([1, 180])\ninput: torch.Size([180])\ny_pred: torch.Size([3])\ntorch.Size([3])\nshape of dy/dp: (3, 180)\nshape of dgrad_input: torch.Size([1, 180])\ninput: torch.Size([180])\ny_pred: torch.Size([3])\ntorch.Size([3])\nshape of dy/dp: (3, 180)\nshape of dgrad_input: torch.Size([1, 180])\ninput: torch.Size([180])\ny_pred: torch.Size([3])\ntorch.Size([3])\nshape of dy/dp: (3, 180)\nshape of dgrad_input: torch.Size([1, 180])\ninput: torch.Size([180])\ny_pred: torch.Size([3])\ntorch.Size([3])\nshape of dy/dp: (3, 180)\nshape of dgrad_input: torch.Size([1, 180])\ninput: torch.Size([180])\ny_pred: torch.Size([3])\ntorch.Size([3])\nshape of dy/dp: (3, 180)\nshape of dgrad_input: torch.Size([1, 180])\ninput: torch.Size([180])\ny_pred: torch.Size([3])\ntorch.Size([3])\nshape of dy/dp: (3, 180)\nshape of dgrad_input: torch.Size([1, 180])\ninput: torch.Size([180])\ny_pred: torch.Size([3])\ntorch.Size([3])\nshape of dy/dp: (3, 180)\nshape of dgrad_input: torch.Size([1, 180])\ninput: torch.Size([180])\ny_pred: torch.Size([3])\ntorch.Size([3])\nshape of dy/dp: (3, 180)\nshape of dgrad_input: torch.Size([1, 180])\ninput: torch.Size([180])\ny_pred: torch.Size([3])\ntorch.Size([3])\nshape of dy/dp: (3, 180)\nshape of dgrad_input: torch.Size([1, 180])\ninput: torch.Size([180])\ny_pred: torch.Size([3])\ntorch.Size([3])\nshape of dy/dp: (3, 180)\nshape of dgrad_input: torch.Size([1, 180])\ninput: torch.Size([180])\ny_pred: torch.Size([3])\ntorch.Size([3])\nshape of dy/dp: (3, 180)\nshape of dgrad_input: torch.Size([1, 180])\ninput: torch.Size([180])\ny_pred: torch.Size([3])\ntorch.Size([3])\nshape of dy/dp: (3, 180)\nshape of dgrad_input: torch.Size([1, 180])\ninput: torch.Size([180])\ny_pred: torch.Size([3])\ntorch.Size([3])\nshape of dy/dp: (3, 180)\nshape of dgrad_input: torch.Size([1, 180])\ninput: torch.Size([180])\ny_pred: torch.Size([3])\ntorch.Size([3])\nshape of dy/dp: (3, 180)\nshape of dgrad_input: torch.Size([1, 180])\ninput: torch.Size([180])\ny_pred: torch.Size([3])\ntorch.Size([3])\nshape of dy/dp: (3, 180)\nshape of dgrad_input: torch.Size([1, 180])\ninput: torch.Size([180])\ny_pred: torch.Size([3])\ntorch.Size([3])\nshape of dy/dp: (3, 180)\nshape of dgrad_input: torch.Size([1, 180])\ninput: torch.Size([180])\ny_pred: torch.Size([3])\ntorch.Size([3])\nshape of dy/dp: (3, 180)\nshape of dgrad_input: torch.Size([1, 180])\nepoch:   1/20  loss: 11.64021869  smoothness error: 8.81029987\ninput: torch.Size([180])\ny_pred: torch.Size([3])\ntorch.Size([3])\nshape of dy/dp: (3, 180)\nshape of dgrad_input: torch.Size([1, 180])\ninput: torch.Size([180])\ny_pred: torch.Size([3])\ntorch.Size([3])\nshape of dy/dp: (3, 180)\nshape of dgrad_input: torch.Size([1, 180])\ninput: torch.Size([180])\ny_pred: torch.Size([3])\ntorch.Size([3])\nshape of dy/dp: (3, 180)\nshape of dgrad_input: torch.Size([1, 180])\ninput: torch.Size([180])\ny_pred: torch.Size([3])\ntorch.Size([3])\nshape of dy/dp: (3, 180)\nshape of dgrad_input: torch.Size([1, 180])\ninput: torch.Size([180])\ny_pred: torch.Size([3])\ntorch.Size([3])\nshape of dy/dp: (3, 180)\nshape of dgrad_input: torch.Size([1, 180])\ninput: torch.Size([180])\ny_pred: torch.Size([3])\ntorch.Size([3])\nshape of dy/dp: (3, 180)\nshape of dgrad_input: torch.Size([1, 180])\ninput: torch.Size([180])\ny_pred: torch.Size([3])\ntorch.Size([3])\nshape of dy/dp: (3, 180)\nshape of dgrad_input: torch.Size([1, 180])\ninput: torch.Size([180])\ny_pred: torch.Size([3])\ntorch.Size([3])\nshape of dy/dp: (3, 180)\nshape of dgrad_input: torch.Size([1, 180])\ninput: torch.Size([180])\ny_pred: torch.Size([3])\ntorch.Size([3])\nshape of dy/dp: (3, 180)\nshape of dgrad_input: torch.Size([1, 180])\ninput: torch.Size([180])\ny_pred: torch.Size([3])\ntorch.Size([3])\nshape of dy/dp: (3, 180)\nshape of dgrad_input: torch.Size([1, 180])\ninput: torch.Size([180])\ny_pred: torch.Size([3])\ntorch.Size([3])\nshape of dy/dp: (3, 180)\nshape of dgrad_input: torch.Size([1, 180])\ninput: torch.Size([180])\ny_pred: torch.Size([3])\ntorch.Size([3])\nshape of dy/dp: (3, 180)\nshape of dgrad_input: torch.Size([1, 180])\ninput: torch.Size([180])\ny_pred: torch.Size([3])\ntorch.Size([3])\nshape of dy/dp: (3, 180)\nshape of dgrad_input: torch.Size([1, 180])\ninput: torch.Size([180])\ny_pred: torch.Size([3])\ntorch.Size([3])\nshape of dy/dp: (3, 180)\nshape of dgrad_input: torch.Size([1, 180])\ninput: torch.Size([180])\ny_pred: torch.Size([3])\ntorch.Size([3])\nshape of dy/dp: (3, 180)\nshape of dgrad_input: torch.Size([1, 180])\ninput: torch.Size([180])\ny_pred: torch.Size([3])\ntorch.Size([3])\nshape of dy/dp: (3, 180)\nshape of dgrad_input: torch.Size([1, 180])\ninput: torch.Size([180])\ny_pred: torch.Size([3])\ntorch.Size([3])\nshape of dy/dp: (3, 180)\nshape of dgrad_input: torch.Size([1, 180])\ninput: torch.Size([180])\ny_pred: torch.Size([3])\ntorch.Size([3])\nshape of dy/dp: (3, 180)\nshape of dgrad_input: torch.Size([1, 180])\ninput: torch.Size([180])\ny_pred: torch.Size([3])\ntorch.Size([3])\nshape of dy/dp: (3, 180)\nshape of dgrad_input: torch.Size([1, 180])\ninput: torch.Size([180])\ny_pred: torch.Size([3])\ntorch.Size([3])\nshape of dy/dp: (3, 180)\nshape of dgrad_input: torch.Size([1, 180])\ninput: torch.Size([180])\ny_pred: torch.Size([3])\ntorch.Size([3])\nshape of dy/dp: (3, 180)\nshape of dgrad_input: torch.Size([1, 180])\ninput: torch.Size([180])\ny_pred: torch.Size([3])\ntorch.Size([3])\nshape of dy/dp: (3, 180)\nshape of dgrad_input: torch.Size([1, 180])\ninput: torch.Size([180])\ny_pred: torch.Size([3])\ntorch.Size([3])\nshape of dy/dp: (3, 180)\nshape of dgrad_input: torch.Size([1, 180])\ninput: torch.Size([180])\ny_pred: torch.Size([3])\ntorch.Size([3])\nshape of dy/dp: (3, 180)\nshape of dgrad_input: torch.Size([1, 180])\ninput: torch.Size([180])\ny_pred: torch.Size([3])\ntorch.Size([3])\nshape of dy/dp: (3, 180)\nshape of dgrad_input: torch.Size([1, 180])\ninput: torch.Size([180])\ny_pred: torch.Size([3])\ntorch.Size([3])\nshape of dy/dp: (3, 180)\nshape of dgrad_input: torch.Size([1, 180])\ninput: torch.Size([180])\ny_pred: torch.Size([3])\ntorch.Size([3])\nshape of dy/dp: (3, 180)\nshape of dgrad_input: torch.Size([1, 180])\ninput: torch.Size([180])\ny_pred: torch.Size([3])\ntorch.Size([3])\nshape of dy/dp: (3, 180)\nshape of dgrad_input: torch.Size([1, 180])\ninput: torch.Size([180])\ny_pred: torch.Size([3])\ntorch.Size([3])\nshape of dy/dp: (3, 180)\nshape of dgrad_input: torch.Size([1, 180])\ninput: torch.Size([180])\ny_pred: torch.Size([3])\ntorch.Size([3])\nshape of dy/dp: (3, 180)\nshape of dgrad_input: torch.Size([1, 180])\ninput: torch.Size([180])\ny_pred: torch.Size([3])\ntorch.Size([3])\nshape of dy/dp: (3, 180)\nshape of dgrad_input: torch.Size([1, 180])\ninput: torch.Size([180])\ny_pred: torch.Size([3])\ntorch.Size([3])\nshape of dy/dp: (3, 180)\nshape of dgrad_input: torch.Size([1, 180])\ninput: torch.Size([180])\ny_pred: torch.Size([3])\ntorch.Size([3])\nshape of dy/dp: (3, 180)\nshape of dgrad_input: torch.Size([1, 180])\ninput: torch.Size([180])\ny_pred: torch.Size([3])\ntorch.Size([3])\nshape of dy/dp: (3, 180)\nshape of dgrad_input: torch.Size([1, 180])\ninput: torch.Size([180])\ny_pred: torch.Size([3])\ntorch.Size([3])\nshape of dy/dp: (3, 180)\nshape of dgrad_input: torch.Size([1, 180])\ninput: torch.Size([180])\ny_pred: torch.Size([3])\ntorch.Size([3])\nshape of dy/dp: (3, 180)\nshape of dgrad_input: torch.Size([1, 180])\ninput: torch.Size([180])\ny_pred: torch.Size([3])\ntorch.Size([3])\nshape of dy/dp: (3, 180)\nshape of dgrad_input: torch.Size([1, 180])\ninput: torch.Size([180])\ny_pred: torch.Size([3])\ntorch.Size([3])\nshape of dy/dp: (3, 180)\nshape of dgrad_input: torch.Size([1, 180])\ninput: torch.Size([180])\ny_pred: torch.Size([3])\ntorch.Size([3])\nshape of dy/dp: (3, 180)\nshape of dgrad_input: torch.Size([1, 180])\ninput: torch.Size([180])\ny_pred: torch.Size([3])\ntorch.Size([3])\nshape of dy/dp: (3, 180)\nshape of dgrad_input: torch.Size([1, 180])\ninput: torch.Size([180])\ny_pred: torch.Size([3])\ntorch.Size([3])\nshape of dy/dp: (3, 180)\nshape of dgrad_input: torch.Size([1, 180])\ninput: torch.Size([180])\ny_pred: torch.Size([3])\ntorch.Size([3])\nshape of dy/dp: (3, 180)\nshape of dgrad_input: torch.Size([1, 180])\ninput: torch.Size([180])\ny_pred: torch.Size([3])\ntorch.Size([3])\nshape of dy/dp: (3, 180)\nshape of dgrad_input: torch.Size([1, 180])\ninput: torch.Size([180])\ny_pred: torch.Size([3])\ntorch.Size([3])\nshape of dy/dp: (3, 180)\nshape of dgrad_input: torch.Size([1, 180])\ninput: torch.Size([180])\ny_pred: torch.Size([3])\ntorch.Size([3])\nshape of dy/dp: (3, 180)\nshape of dgrad_input: torch.Size([1, 180])\ninput: torch.Size([180])\ny_pred: torch.Size([3])\ntorch.Size([3])\nshape of dy/dp: (3, 180)\nshape of dgrad_input: torch.Size([1, 180])\ninput: torch.Size([180])\ny_pred: torch.Size([3])\ntorch.Size([3])\nshape of dy/dp: (3, 180)\nshape of dgrad_input: torch.Size([1, 180])\ninput: torch.Size([180])\ny_pred: torch.Size([3])\ntorch.Size([3])\nshape of dy/dp: (3, 180)\nshape of dgrad_input: torch.Size([1, 180])\ninput: torch.Size([180])\ny_pred: torch.Size([3])\ntorch.Size([3])\nshape of dy/dp: (3, 180)\nshape of dgrad_input: torch.Size([1, 180])\ninput: torch.Size([180])\ny_pred: torch.Size([3])\ntorch.Size([3])\nshape of dy/dp: (3, 180)\nshape of dgrad_input: torch.Size([1, 180])\nepoch:   2/20  loss: 200.51615500  smoothness error: 197.30445862\ninput: torch.Size([180])\ny_pred: torch.Size([3])\ntorch.Size([3])\nshape of dy/dp: (3, 180)\nshape of dgrad_input: torch.Size([1, 180])\ninput: torch.Size([180])\ny_pred: torch.Size([3])\ntorch.Size([3])\nshape of dy/dp: (3, 180)\nshape of dgrad_input: torch.Size([1, 180])\ninput: torch.Size([180])\ny_pred: torch.Size([3])\ntorch.Size([3])\nshape of dy/dp: (3, 180)\nshape of dgrad_input: torch.Size([1, 180])\ninput: torch.Size([180])\ny_pred: torch.Size([3])\ntorch.Size([3])\nshape of dy/dp: (3, 180)\nshape of dgrad_input: torch.Size([1, 180])\n"
    },
    {
     "output_type": "error",
     "ename": "KeyboardInterrupt",
     "evalue": "",
     "traceback": [
      "\u001b[0;31m---------------------------------------------------------------------------\u001b[0m",
      "\u001b[0;31mKeyboardInterrupt\u001b[0m                         Traceback (most recent call last)",
      "\u001b[0;32m<ipython-input-8-017c6dbd94ed>\u001b[0m in \u001b[0;36m<module>\u001b[0;34m\u001b[0m\n\u001b[1;32m     24\u001b[0m         \u001b[0moptimizer\u001b[0m\u001b[0;34m.\u001b[0m\u001b[0mzero_grad\u001b[0m\u001b[0;34m(\u001b[0m\u001b[0;34m)\u001b[0m\u001b[0;34m\u001b[0m\u001b[0;34m\u001b[0m\u001b[0m\n\u001b[1;32m     25\u001b[0m         \u001b[0;31m#Back Prop\u001b[0m\u001b[0;34m\u001b[0m\u001b[0;34m\u001b[0m\u001b[0;34m\u001b[0m\u001b[0m\n\u001b[0;32m---> 26\u001b[0;31m         \u001b[0mloss\u001b[0m\u001b[0;34m.\u001b[0m\u001b[0mbackward\u001b[0m\u001b[0;34m(\u001b[0m\u001b[0;34m)\u001b[0m\u001b[0;34m\u001b[0m\u001b[0;34m\u001b[0m\u001b[0m\n\u001b[0m\u001b[1;32m     27\u001b[0m         \u001b[0moptimizer\u001b[0m\u001b[0;34m.\u001b[0m\u001b[0mstep\u001b[0m\u001b[0;34m(\u001b[0m\u001b[0;34m)\u001b[0m\u001b[0;34m\u001b[0m\u001b[0;34m\u001b[0m\u001b[0m\n\u001b[1;32m     28\u001b[0m     \u001b[0mprint\u001b[0m\u001b[0;34m(\u001b[0m\u001b[0;34mf'epoch: {i:3}/{epochs}  loss: {loss.item():10.8f}  smoothness error: {smoothness_error.item():10.8f}'\u001b[0m\u001b[0;34m)\u001b[0m\u001b[0;34m\u001b[0m\u001b[0;34m\u001b[0m\u001b[0m\n",
      "\u001b[0;32m~/Library/Python/3.7/lib/python/site-packages/torch/tensor.py\u001b[0m in \u001b[0;36mbackward\u001b[0;34m(self, gradient, retain_graph, create_graph)\u001b[0m\n\u001b[1;32m    193\u001b[0m                 \u001b[0mproducts\u001b[0m\u001b[0;34m.\u001b[0m \u001b[0mDefaults\u001b[0m \u001b[0mto\u001b[0m\u001b[0;31m \u001b[0m\u001b[0;31m`\u001b[0m\u001b[0;31m`\u001b[0m\u001b[0;32mFalse\u001b[0m\u001b[0;31m`\u001b[0m\u001b[0;31m`\u001b[0m\u001b[0;34m.\u001b[0m\u001b[0;34m\u001b[0m\u001b[0;34m\u001b[0m\u001b[0m\n\u001b[1;32m    194\u001b[0m         \"\"\"\n\u001b[0;32m--> 195\u001b[0;31m         \u001b[0mtorch\u001b[0m\u001b[0;34m.\u001b[0m\u001b[0mautograd\u001b[0m\u001b[0;34m.\u001b[0m\u001b[0mbackward\u001b[0m\u001b[0;34m(\u001b[0m\u001b[0mself\u001b[0m\u001b[0;34m,\u001b[0m \u001b[0mgradient\u001b[0m\u001b[0;34m,\u001b[0m \u001b[0mretain_graph\u001b[0m\u001b[0;34m,\u001b[0m \u001b[0mcreate_graph\u001b[0m\u001b[0;34m)\u001b[0m\u001b[0;34m\u001b[0m\u001b[0;34m\u001b[0m\u001b[0m\n\u001b[0m\u001b[1;32m    196\u001b[0m \u001b[0;34m\u001b[0m\u001b[0m\n\u001b[1;32m    197\u001b[0m     \u001b[0;32mdef\u001b[0m \u001b[0mregister_hook\u001b[0m\u001b[0;34m(\u001b[0m\u001b[0mself\u001b[0m\u001b[0;34m,\u001b[0m \u001b[0mhook\u001b[0m\u001b[0;34m)\u001b[0m\u001b[0;34m:\u001b[0m\u001b[0;34m\u001b[0m\u001b[0;34m\u001b[0m\u001b[0m\n",
      "\u001b[0;32m~/Library/Python/3.7/lib/python/site-packages/torch/autograd/__init__.py\u001b[0m in \u001b[0;36mbackward\u001b[0;34m(tensors, grad_tensors, retain_graph, create_graph, grad_variables)\u001b[0m\n\u001b[1;32m     97\u001b[0m     Variable._execution_engine.run_backward(\n\u001b[1;32m     98\u001b[0m         \u001b[0mtensors\u001b[0m\u001b[0;34m,\u001b[0m \u001b[0mgrad_tensors\u001b[0m\u001b[0;34m,\u001b[0m \u001b[0mretain_graph\u001b[0m\u001b[0;34m,\u001b[0m \u001b[0mcreate_graph\u001b[0m\u001b[0;34m,\u001b[0m\u001b[0;34m\u001b[0m\u001b[0;34m\u001b[0m\u001b[0m\n\u001b[0;32m---> 99\u001b[0;31m         allow_unreachable=True)  # allow_unreachable flag\n\u001b[0m\u001b[1;32m    100\u001b[0m \u001b[0;34m\u001b[0m\u001b[0m\n\u001b[1;32m    101\u001b[0m \u001b[0;34m\u001b[0m\u001b[0m\n",
      "\u001b[0;31mKeyboardInterrupt\u001b[0m: "
     ]
    }
   ],
   "source": [
    "torch.autograd.set_detect_anomaly(True)\n",
    "\n",
    "start_time = time.time()\n",
    "weight_c1 = 1 # p start condition\n",
    "weight_c2 = 1 # p smoothness condition\n",
    "losses = []\n",
    "y_preds= np.zeros((samplenum, 3))\n",
    "p_preds= np.zeros((samplenum, 3*time_length))\n",
    "\n",
    "#y_pred = torch.tensor(y_pred)\n",
    "for i in range(epochs):\n",
    "    for s in range(samplenum):\n",
    "        y_truth = y_target[s, :]\n",
    "        p_pred = model(y_truth)\n",
    "        y_pred = Simulate(p_pred)\n",
    "        y_preds[s, :] = y_pred.detach()\n",
    "        p_preds[s, :] = p_pred.detach()\n",
    "        smoothness_error = sum((p_pred[0:3*(time_length-1)] - p_pred[3:3*time_length])**2)\n",
    "        #loss = torch.sqrt(criterion(y_pred.float(), y_truth)) # RMSE\n",
    "        #loss = criterion(y_pred.float(), y_truth) + weight_c1*(sum(p_pred[0:3]-torch.tensor(dyn.p_init[0:3])))**2  # MSE + start condition penalty + p smoothness condition penalty\n",
    "        loss = criterion(y_pred.float(), y_truth) + weight_c1*criterion(p_pred[0:3].double(), torch.tensor(dyn.p_init[0:3])) + weight_c2*smoothness_error# MSE + start condition penalty + p smoothness condition penalty\n",
    "        #loss =sum((y_pred.float()-y_truth)**2) \n",
    "        losses.append(loss)\n",
    "        optimizer.zero_grad()\n",
    "        #Back Prop\n",
    "        loss.backward()\n",
    "        optimizer.step()\n",
    "    print(f'epoch: {i:3}/{epochs}  loss: {loss.item():10.8f}  smoothness error: {smoothness_error.item():10.8f}')\n",
    "    i+=1\n",
    "\n",
    "print(f'epoch: {i:3} loss: {loss.item():10.8f}') # print the last line\n",
    "print(f'\\nDuration: {(time.time() - start_time)/60:.3f} min') # print the time elapsed"
   ]
  },
  {
   "cell_type": "code",
   "execution_count": 10,
   "metadata": {},
   "outputs": [
    {
     "output_type": "stream",
     "name": "stdout",
     "text": "None\n"
    }
   ],
   "source": [
    "print(y_pred.grad)"
   ]
  },
  {
   "cell_type": "code",
   "execution_count": 8,
   "metadata": {},
   "outputs": [
    {
     "output_type": "stream",
     "name": "stdout",
     "text": "Model saved\n"
    }
   ],
   "source": [
    "#Save Model\n",
    "\n",
    "if len(losses) == epochs*(samplenum):\n",
    "    torch.save(model.state_dict(), 'Trained_Model_300420_300s_100e_onlyZpos.pt')\n",
    "    print('Model saved')\n",
    "else:\n",
    "    print('Model has not been trained. Consider loading a trained model instead.')"
   ]
  },
  {
   "cell_type": "markdown",
   "metadata": {},
   "source": [
    "## Test forward propagation"
   ]
  },
  {
   "cell_type": "code",
   "execution_count": 65,
   "metadata": {},
   "outputs": [
    {
     "output_type": "stream",
     "name": "stdout",
     "text": "[-0.05843178  1.91289042  0.5277091 ]\ntensor([0.0000, 2.0000, 0.5000])\np trajecory: [-0.3475796   2.6794724  -0.25029546 -0.3169132   2.5978498  -0.34320584\n -0.32316363  2.5009358  -0.35768396 -0.326442    2.3999605  -0.3670242\n -0.33319473  2.2966313  -0.36000848 -0.334164    2.1921992  -0.35824865\n -0.340296    2.0910745  -0.3528615  -0.33155766  1.9894711  -0.3444112\n -0.32445875  1.8836269  -0.33305183 -0.31845888  1.7835768  -0.3210051\n -0.31766537  1.6858059  -0.3096674  -0.3099547   1.5929787  -0.2992336\n -0.3000655   1.4961368  -0.2928601  -0.2948266   1.4039501  -0.28120518\n -0.28426725  1.3143059  -0.26231772 -0.28116924  1.2280066  -0.25244734\n -0.27570817  1.1476697  -0.23181176 -0.2700998   1.0675237  -0.21655297\n -0.2676601   0.99025464 -0.20319659 -0.26645288  0.917227   -0.18590827\n -0.27453178  0.8673251  -0.16666439 -0.26827368  0.80920917 -0.15555471\n -0.27674037  0.7628604  -0.13407066 -0.2836355   0.726278   -0.11686522\n -0.2898554   0.7004952  -0.09889606 -0.2900398   0.68480283 -0.08144054\n -0.29741222  0.67434394 -0.06064486 -0.30222675  0.6729073  -0.03758334\n -0.29347968  0.680863   -0.01412833 -0.28363726  0.6934178   0.00527474\n -0.27886125  0.71300024  0.03318482 -0.26219633  0.7335032   0.05764838\n -0.24032117  0.76738805  0.08201528 -0.20192881  0.7911866   0.10149854\n -0.17629081  0.8252086   0.1259659  -0.13922988  0.85098493  0.14408283\n -0.09206104  0.88206124  0.16586752 -0.04158713  0.9077071   0.1902592\n  0.00780179  0.9240785   0.20142817  0.05613786  0.94414675  0.21449423\n  0.10727192  0.959468    0.22779419  0.15178056  0.9709258   0.23491445\n  0.19774069  0.97681946  0.24157411  0.24142036  0.98363715  0.24908863\n  0.27778417  0.9833925   0.25585458  0.31100303  0.9780504   0.2580253\n  0.34076858  0.97868806  0.26117375  0.3668779   0.97708654  0.26370987\n  0.39066505  0.9751428   0.26739258  0.40883926  0.9723966   0.2690906\n  0.42112163  0.9687214   0.26590505  0.4221517   0.96859956  0.26810724\n  0.43055668  0.9742801   0.2700219   0.43008715  0.9822956   0.2767202\n  0.42992723  0.9944825   0.27567935  0.4296211   1.0037562   0.28574792\n  0.42733648  1.0134574   0.2890976   0.4109833   1.0291557   0.29400322\n  0.4086404   1.0442979   0.29986346  0.40365008  1.0531138   0.3058717 ]\ny trajectory: [ 7.52264355e-02  1.84931223e+00  5.41523748e-02  1.08183039e-01\n  1.77771089e+00  6.74877671e-02  1.32241953e-01  1.71866845e+00\n  7.24198157e-02  1.60120959e-01  1.65102094e+00  8.08683483e-02\n  1.91278843e-01  1.57614413e+00  9.21436230e-02  2.21412240e-01\n  1.49981908e+00  1.02569146e-01  2.47174672e-01  1.42571948e+00\n  1.09554152e-01  2.76169088e-01  1.34546997e+00  1.19003670e-01\n  3.06524475e-01  1.26115285e+00  1.29450761e-01  3.32980259e-01\n  1.17773737e+00  1.37155243e-01  3.53978528e-01  1.09638628e+00\n  1.41196184e-01  3.73789631e-01  1.01331664e+00  1.44466741e-01\n  3.94031585e-01  9.27168827e-01  1.48010962e-01  4.11083190e-01\n  8.40840973e-01  1.49608128e-01  4.29762298e-01  7.50503031e-01\n  1.52150001e-01  4.40810556e-01  6.63407528e-01  1.50433686e-01\n  4.50641484e-01  5.74547553e-01  1.48080688e-01  4.58281535e-01\n  4.84715591e-01  1.44641265e-01  4.61193439e-01  3.96013530e-01\n  1.38982094e-01  4.60532448e-01  3.07582671e-01  1.31761679e-01\n  4.44602739e-01  2.29959410e-01  1.18486910e-01  4.32215285e-01\n  1.46258719e-01  1.06537498e-01  4.10103742e-01  6.96472879e-02\n  9.13960099e-02  3.79111309e-01  4.25023635e-05  7.37009124e-02\n  3.40186114e-01 -6.26782752e-02  5.40797187e-02  2.95004883e-01\n -1.19523185e-01  3.32322985e-02  2.41851658e-01 -1.66660437e-01\n  1.13209993e-02  1.81616963e-01 -2.03692892e-01 -1.09796675e-02\n  1.16468793e-01 -2.32503112e-01 -3.30535050e-02  4.65255179e-02\n -2.50331827e-01 -5.42626537e-02 -2.84352824e-02 -2.51559654e-01\n -7.33375245e-02 -1.05211887e-01 -2.44203564e-01 -9.06965229e-02\n -1.83339907e-01 -2.16243835e-01 -1.03652079e-01 -2.61048735e-01\n -1.84093835e-01 -1.15072030e-01 -3.35211337e-01 -1.33280665e-01\n -1.20981485e-01 -4.06643452e-01 -7.57300612e-02 -1.24152067e-01\n -4.69645914e-01 -1.18580234e-03 -1.20920062e-01 -5.24757403e-01\n  8.40845798e-02 -1.12739583e-01 -5.76536994e-01  1.70924444e-01\n -1.02824259e-01 -6.16973951e-01  2.66459052e-01 -8.78147135e-02\n -6.45556114e-01  3.68573484e-01 -6.81450097e-02 -6.68468703e-01\n  4.71415538e-01 -4.65299583e-02 -6.81243931e-01  5.76153487e-01\n -2.18765213e-02 -6.82052282e-01  6.82074257e-01  5.92792834e-03\n -6.77959621e-01  7.86280807e-01  3.48655999e-02 -6.66924430e-01\n  8.88398814e-01  6.51723782e-02 -6.46670746e-01  9.87707617e-01\n  9.70117330e-02 -6.19209176e-01  1.08351348e+00  1.29829696e-01\n -5.84457179e-01  1.17509939e+00  1.63424966e-01 -5.45842736e-01\n  1.26278544e+00  1.97310642e-01 -5.04442838e-01  1.34660925e+00\n  2.31300459e-01 -4.65300602e-01  1.42887901e+00  2.65283092e-01\n -4.18510833e-01  1.50365569e+00  2.99004677e-01 -3.72382262e-01\n  1.57619671e+00  3.32772447e-01 -3.24707712e-01  1.64468072e+00\n  3.66354456e-01 -2.73311725e-01  1.70671813e+00  3.99335116e-01\n -2.19474076e-01  1.76320031e+00  4.31777172e-01 -1.70346730e-01\n  1.82339291e+00  4.65609691e-01 -1.16421317e-01  1.87328514e+00\n  4.97634955e-01 -5.84317760e-02  1.91289042e+00  5.27709102e-01]\n0.003907878919791882\n"
    }
   ],
   "source": [
    "y_target= torch.tensor([0, 2, 0.5])\n",
    "p = model(y_target)\n",
    "p = p.detach().numpy()\n",
    "\n",
    "y_pred_state = dyn.compute(p)\n",
    "y_pred = y_pred_state.y[-3:]\n",
    "\n",
    "print(y_pred)\n",
    "print(y_target)\n",
    "print(f'p trajecory: {p}')\n",
    "print(f\"y trajectory: {y_pred_state.y}\")\n",
    "error = 0\n",
    "for i in range(time_length-1):\n",
    "    step = sum((p[3*i:3*i+3] - p[3*i+3:3*i+6])**2)\n",
    "    error = error + step\n",
    "print(error/time_length)\n"
   ]
  },
  {
   "cell_type": "code",
   "execution_count": 51,
   "metadata": {},
   "outputs": [
    {
     "output_type": "execute_result",
     "data": {
      "text/plain": "array([], dtype=float32)"
     },
     "metadata": {},
     "execution_count": 51
    }
   ],
   "source": [
    "test = torch.tensor(1,1,1,2,2,2,3,3,3,4,4,4)\n",
    "p_pred[0:3*(time_length-1)] - p_pred[3:3*time_length])**2)"
   ]
  },
  {
   "cell_type": "markdown",
   "metadata": {},
   "source": [
    "## Torch Script Conversion and Saving"
   ]
  },
  {
   "cell_type": "code",
   "execution_count": 36,
   "metadata": {},
   "outputs": [
    {
     "output_type": "stream",
     "name": "stdout",
     "text": "tensor([1.9574, 0.0000, 0.0000, 2.7701, 0.0000], grad_fn=<SliceBackward>)\n"
    }
   ],
   "source": [
    "input_example = torch.tensor(y_target[0,:])\n",
    "traced_script_module = torch.jit.trace(model, input_example)\n",
    "original = model(test_input)\n",
    "\n",
    "# Test the torch script\n",
    "test_input= torch.tensor([0, 2, 0.5])\n",
    "output_example = traced_script_module(test_input)\n",
    "print(output_example[-12:])\n",
    "print(original)"
   ]
  },
  {
   "cell_type": "code",
   "execution_count": null,
   "metadata": {},
   "outputs": [],
   "source": [
    "# Save serialized model\n",
    "traced_script_module.save(\"CPP_example_model_latest.pt\")"
   ]
  }
 ],
 "metadata": {
  "kernelspec": {
   "display_name": "Python 3.7.3 64-bit",
   "language": "python",
   "name": "python37364bitc9de6dffaec048baa4256f94fcb6712f"
  },
  "language_info": {
   "codemirror_mode": {
    "name": "ipython",
    "version": 3
   },
   "file_extension": ".py",
   "mimetype": "text/x-python",
   "name": "python",
   "nbconvert_exporter": "python",
   "pygments_lexer": "ipython3",
   "version": "3.7.3-final"
  }
 },
 "nbformat": 4,
 "nbformat_minor": 2
}