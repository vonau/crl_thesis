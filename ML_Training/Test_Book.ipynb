{
 "cells": [
  {
   "cell_type": "code",
   "execution_count": 19,
   "metadata": {
    "tags": []
   },
   "outputs": [
    {
     "output_type": "stream",
     "name": "stdout",
     "text": "done\ntorch.Size([1, 90])\n"
    }
   ],
   "source": [
    "########################################\n",
    "#LIBRARIES\n",
    "import numpy as np\n",
    "import torch\n",
    "import torch.nn as nn\n",
    "import pandas as pd\n",
    "import time\n",
    "import pydde as dde\n",
    "import matplotlib.pyplot as plt\n",
    "import json\n",
    "import os\n",
    "import time\n",
    "\n",
    "########################################\n",
    "#PARAMETERS\n",
    "nTimeSteps = 30 #at 60 Hz\n",
    "samplenum = 1\n",
    "hiddenlayers = [100]\n",
    "input_size = 3\n",
    "output_size = 3*nTimeSteps\n",
    "simulation_file_path = '../Data/Simulations/pm_target.sim'\n",
    "objective_file_path = f'../Data/Objectives/pm_target_{nTimeSteps}.obj'\n",
    "\n",
    "# set log level\n",
    "dde.set_log_level(dde.LogLevel.off)\n",
    "\n",
    "#######################################\n",
    "# LOAD SIMULATION AND OBJECTIVE FUNCTION\n",
    "dyn = dde.DynamicSequence()\n",
    "dyn.loadFile(simulation_file_path, nTimeSteps)\n",
    "p_init = np.zeros(dyn.p0.size*nTimeSteps)\n",
    "for i in range(0,nTimeSteps):\n",
    "\tp_init[i*dyn.p0.size : (i+1)*dyn.p0.size] = dyn.p0\n",
    "state_init = dyn.q(p_init)\n",
    "r = dyn.r(state_init, p_init)\n",
    "dr = dyn.dr_dp(state_init, p_init)\n",
    "dq = dyn.dq_dp(state_init, p_init)\n",
    "\n",
    "# Objective Function\n",
    "obj = dde.InverseObjective(dyn)\n",
    "obj.loadFile(objective_file_path)\n",
    "objective_json = json.load(open(objective_file_path))\n",
    "opt = dde.Newton()\n",
    "\n",
    "##########################################\n",
    "#SAMPLE TARGETS\n",
    "y_target = np.zeros((samplenum,3))\n",
    "y_target[:,2] = np.random.rand(samplenum)\n",
    "y_target[:,1] = np.random.rand( samplenum)\n",
    "y_target[:,0] = np.random.rand(samplenum)\n",
    "p_start = torch.zeros((minibatch_size, 3)).float()\n",
    "for i in range(minibatch_size):\n",
    "    p_start[i, :] = torch.tensor(p_init[0:3])\n",
    "print(\"done\")\n",
    "\n",
    "###################################\n",
    "#USE P FROM TRAJ_OPT\n",
    "p = np.ones((3*nTimeSteps, samplenum))\n",
    "for i in range(samplenum):\n",
    "    objective_json[\"objectives\"][\"pmTargetPositions\"][0][\"targetPos\"] = ([[y_target[i,0]],[y_target[i,1]],[y_target[i,2]]]) \n",
    "    obj.loadJson(objective_json)\n",
    "    p[:,i] = opt.minimize(obj, p_init)\n",
    "p = torch.tensor(p, requires_grad = True).t().double()\n",
    "print(p.shape)"
   ]
  },
  {
   "cell_type": "code",
   "execution_count": 17,
   "metadata": {},
   "outputs": [],
   "source": [
    "##########################################\n",
    "#BUILD CUSTOM SIMULATION FUNCTION\n",
    "class Simulate(torch.autograd.Function):\n",
    "    \n",
    "    @staticmethod\n",
    "    def forward(ctx, input):\n",
    "        #print(f'input: {input.shape}')\n",
    "        p = input.clone().numpy().transpose()\n",
    "        y_pred = torch.ones([len(p[0, :]),3*nTimeSteps])\n",
    "        for i in range(len(p[0, :])):\n",
    "            state = dyn.q(p[:,i])\n",
    "            y_pred[i, :] = torch.tensor(state.q)\n",
    "        #print(f'y_pred: {y_pred.shape}')\n",
    "        \n",
    "        ctx.save_for_backward(input)\n",
    "        \n",
    "        return y_pred\n",
    "        \n",
    "    @staticmethod\n",
    "    def backward(ctx, grad_output):\n",
    "        #print(grad_output)\n",
    "        input, = ctx.saved_tensors\n",
    "        p = input.clone().numpy().transpose()\n",
    "        dq_dp_batch = torch.zeros([3*nTimeSteps, 3*nTimeSteps])\n",
    "        for i in range(len(p[0, :])):\n",
    "            state = dyn.q(p[:, i])\n",
    "            dq_dp = dyn.dq_dp(state, p[:, i])\n",
    "            dq_dp = torch.tensor(dq_dp)\n",
    "            dq_dp_batch = dq_dp_batch + dq_dp\n",
    "        #print(f'dy/dp_batch: {dy_dp_batch/samplenum}')\n",
    "        \n",
    "        grad_input = grad_output.mm(dq_dp_batch.float()/len(p[0,:]))\n",
    "        #print(f'shape of grad input: {grad_input.shape}')\n",
    "        #print(f'shape of grad output: {grad_output.shape}')\n",
    "        return grad_input\n",
    "\n",
    "Simulate = Simulate.apply"
   ]
  },
  {
   "cell_type": "code",
   "execution_count": 18,
   "metadata": {
    "tags": []
   },
   "outputs": [
    {
     "output_type": "stream",
     "name": "stdout",
     "text": "dy_dp = None\n"
    }
   ],
   "source": [
    "################################\n",
    "#GET ANALYTICAL GRADIENT\n",
    "\n",
    "# Error for whole simulation\n",
    "from numpy import linalg as LA\n",
    "\n",
    "q = Simulate(p)\n",
    "grad_output = torch.ones([samplenum,3*nTimeSteps]).double()\n",
    "q.backward(grad_output)\n",
    "dq_dp = p.grad\n",
    "#print(f'dy_dp shape = {dq_dp.shape}')\n",
    "print(f'dy_dp = {dq_dp}')"
   ]
  },
  {
   "cell_type": "code",
   "execution_count": null,
   "metadata": {
    "tags": [
     "outputPrepend",
     "outputPrepend",
     "outputPrepend",
     "outputPrepend"
    ]
   },
   "outputs": [],
   "source": []
  },
  {
   "cell_type": "code",
   "execution_count": null,
   "metadata": {
    "tags": [
     "outputPrepend",
     "outputPrepend"
    ]
   },
   "outputs": [],
   "source": []
  }
 ],
 "metadata": {
  "kernelspec": {
   "display_name": "Python 3.7.4 64-bit ('base': conda)",
   "language": "python",
   "name": "python37464bitbaseconda39d998b0540f4e659e09acca95c25f2f"
  },
  "language_info": {
   "codemirror_mode": {
    "name": "ipython",
    "version": 3
   },
   "file_extension": ".py",
   "mimetype": "text/x-python",
   "name": "python",
   "nbconvert_exporter": "python",
   "pygments_lexer": "ipython3",
   "version": "3.7.4-final"
  }
 },
 "nbformat": 4,
 "nbformat_minor": 2
}