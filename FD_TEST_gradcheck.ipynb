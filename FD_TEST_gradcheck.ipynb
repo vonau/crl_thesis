{
 "cells": [
  {
   "cell_type": "code",
   "execution_count": 2,
   "metadata": {},
   "outputs": [],
   "source": [
    "import numpy as np\n",
    "import torch\n",
    "import torch.nn as nn\n",
    "import pandas as pd\n",
    "from torch.utils.data import Dataset\n",
    "from torch.utils.data import DataLoader\n",
    "import time\n",
    "import pydde as d"
   ]
  },
  {
   "cell_type": "code",
   "execution_count": 3,
   "metadata": {},
   "outputs": [],
   "source": [
    "#Parameters\n",
    "samplenum = 1\n",
    "input_size = 3\n",
    "output_size = 3\n",
    "time_length = 3; #seconds"
   ]
  },
  {
   "cell_type": "code",
   "execution_count": 4,
   "metadata": {},
   "outputs": [
    {
     "output_type": "stream",
     "name": "stdout",
     "text": "[2.15365312e-05 1.99969848e+00 0.00000000e+00 2.15757288e-05\n 1.99969848e+00 0.00000000e+00 2.15562034e-05 1.99969848e+00\n 0.00000000e+00]\n(9, 9)\n[[0.         2.         0.07193584]]\nfloat64\n"
    }
   ],
   "source": [
    "# Generate simulation\n",
    "dyn = d.PyDyn('test2.sim', time_length)\n",
    "state_init = dyn.compute(dyn.p_init)\n",
    "f = dyn.py_f(state_init)\n",
    "df = dyn.py_df_dp(state_init)\n",
    "dy = dyn.py_dy_dp(state_init)\n",
    "print(state_init.y)\n",
    "print(dy.shape)\n",
    "#Sample targets only variables in z direction\n",
    "y_target = np.zeros((samplenum, 3))\n",
    "y_target[:,2] = np.random.rand(samplenum)\n",
    "#x[:,0] = np.random.rand(samplenum)\n",
    "y_target[:,1] = 2\n",
    "print(y_target)\n",
    "p = dyn.get_p(y_target.transpose(), dyn.p_init)\n",
    "y_target= torch.tensor(y_target, requires_grad= True)\n",
    "print(p.dtype)"
   ]
  },
  {
   "cell_type": "markdown",
   "metadata": {},
   "source": [
    "## Building the custon Simulation Activation Function"
   ]
  },
  {
   "cell_type": "code",
   "execution_count": 9,
   "metadata": {},
   "outputs": [],
   "source": [
    "class Simulate(torch.autograd.Function):\n",
    "    \n",
    "    @staticmethod\n",
    "    def forward(ctx, input):\n",
    "        #print(f'input: {input.shape}')\n",
    "        p = input.clone().numpy().transpose()\n",
    "        state = dyn.compute(p)\n",
    "        y_pred = torch.tensor(state.y[-3:], requires_grad = True)\n",
    "        #print(f'y_pred: {y_pred.dtype}')\n",
    "        \n",
    "        ctx.save_for_backward(input)\n",
    "        \n",
    "        return y_pred\n",
    "    \n",
    "    @staticmethod\n",
    "    def backward(ctx, grad_output):\n",
    "        #print(grad_output.shape)\n",
    "        input, = ctx.saved_tensors\n",
    "        p = input.clone().numpy().transpose()\n",
    "        state= dyn.compute(p)\n",
    "        dy_dp = dyn.py_dy_dp(state)\n",
    "        dy_dp = dy_dp[-3:, :]\n",
    "        #print(f'shape of dy/dp: {dy_dp.shape}')\n",
    "        #print(f'shape of grad_output: {grad_output.shape}')\n",
    "        grad_output = grad_output.unsqueeze(0).t()\n",
    "        #print(f'shape of grad_output unsqueezed: {grad_output.shape}')\n",
    "        \n",
    "        grad_input = torch.tensor(dy_dp, requires_grad = True).t().mm(grad_output).t()\n",
    "        #grad_input = torch.tensor(dy_dp, requires_grad = True)\n",
    "        #print(f'shape of grad_input: {grad_input.dtype}')\n",
    "\n",
    "        return grad_input, None\n",
    "\n",
    "Simulate = Simulate.apply\n",
    "class ActiveLearn(nn.Module):\n",
    "\n",
    "    def __init__(self, n_in, out_sz):\n",
    "        super(ActiveLearn, self).__init__()\n",
    "\n",
    "        self.L_in = nn.Linear(n_in, 3*time_length).double()\n",
    "        self.Relu = nn.ReLU(inplace=True).double()\n",
    "        self.P = nn.Linear(3*time_length, 3*time_length).double()\n",
    "        #self.L_out = nn.Linear(3, 3)\n",
    "    \n",
    "    def forward(self, input):\n",
    "        x = self.L_in(input)\n",
    "        x = self.Relu(x)\n",
    "        x = self.P(x)\n",
    "        x = self.Relu(x)\n",
    "        x, p = Simulate(x)\n",
    "        #x = self.L_out(x)\n",
    "        return x, p\n",
    "    \n",
    "model = ActiveLearn(input_size, output_size)\n",
    "\n"
   ]
  },
  {
   "cell_type": "code",
   "execution_count": 10,
   "metadata": {},
   "outputs": [
    {
     "output_type": "stream",
     "name": "stdout",
     "text": "True\n"
    }
   ],
   "source": [
    "from torch.autograd import gradcheck\n",
    "\n",
    "# gradcheck takes a tuple of tensors as input, check if your gradient\n",
    "# evaluated with these tensors are close enough to numerical\n",
    "# approximations and returns True if they all verify this condition.\n",
    "#p = dyn.p_init\n",
    "p = torch.tensor(p, requires_grad = True)\n",
    "p2= p + 1e-6\n",
    "input = (p.double())\n",
    "#print(input)\n",
    "test = gradcheck(Simulate, (input,), eps=1e-6, atol=1e-6, raise_exception = True)\n",
    "print(test)"
   ]
  }
 ],
 "metadata": {
  "kernelspec": {
   "display_name": "Python 3",
   "language": "python",
   "name": "python3"
  },
  "language_info": {
   "codemirror_mode": {
    "name": "ipython",
    "version": 3
   },
   "file_extension": ".py",
   "mimetype": "text/x-python",
   "name": "python",
   "nbconvert_exporter": "python",
   "pygments_lexer": "ipython3",
   "version": "3.7.3-final"
  }
 },
 "nbformat": 4,
 "nbformat_minor": 2
}